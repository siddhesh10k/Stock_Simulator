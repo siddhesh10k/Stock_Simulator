{
  "cells": [
    {
      "cell_type": "markdown",
      "metadata": {
        "id": "2h7wt0EglM1j"
      },
      "source": [
        "### Stock Market Prediction And Forecasting Using Stacked LSTM"
      ]
    },
    {
      "cell_type": "code",
      "execution_count": null,
      "metadata": {
        "id": "atphqOYClM1l"
      },
      "outputs": [],
      "source": [
        "### Keras and Tensorflow >2.0"
      ]
    },
    {
      "cell_type": "code",
      "execution_count": null,
      "metadata": {
        "id": "4yZcz3KclM1l"
      },
      "outputs": [],
      "source": [
        "### Data Collection\n",
        "import pandas_datareader as pdr\n",
        "key=\"2a4ee6033beb3fa5df5fd7c08409cf1d30b8e4bc\""
      ]
    },
    {
      "cell_type": "code",
      "execution_count": null,
      "metadata": {
        "colab": {
          "base_uri": "https://localhost:8080/"
        },
        "id": "bfC_Chd3lM1m",
        "outputId": "6714bb01-6590-4069-81b1-771f435fb41e"
      },
      "outputs": [
        {
          "output_type": "stream",
          "name": "stdout",
          "text": [
            "DataFrame created successfully:\n",
            "                          date   close     high     low     open     volume  \\\n",
            "2345  2024-04-29T00:00:00.000Z  173.50  176.030  173.10  173.370   68169419   \n",
            "2346  2024-04-30T00:00:00.000Z  170.33  174.990  170.00  173.330   65934776   \n",
            "2347  2024-05-01T00:00:00.000Z  169.30  172.705  169.11  169.580   50383147   \n",
            "2348  2024-05-02T00:00:00.000Z  173.03  173.415  170.89  172.510   94214915   \n",
            "2349  2024-05-03T00:00:00.000Z  183.38  187.000  182.66  186.645  163224109   \n",
            "\n",
            "      adjClose  adjHigh  adjLow  adjOpen  adjVolume  divCash  splitFactor  \n",
            "2345    173.50  176.030  173.10  173.370   68169419      0.0          1.0  \n",
            "2346    170.33  174.990  170.00  173.330   65934776      0.0          1.0  \n",
            "2347    169.30  172.705  169.11  169.580   50383147      0.0          1.0  \n",
            "2348    173.03  173.415  170.89  172.510   94214915      0.0          1.0  \n",
            "2349    183.38  187.000  182.66  186.645  163224109      0.0          1.0  \n"
          ]
        }
      ],
      "source": [
        "import pandas as pd\n",
        "import requests\n",
        "\n",
        "def fetch_data_from_tiingo(symbol, api_key, start_date):\n",
        "    url = f\"https://api.tiingo.com/tiingo/daily/{symbol}/prices?startDate={start_date}&token={api_key}\"\n",
        "    response = requests.get(url)\n",
        "\n",
        "    if response.status_code == 200:\n",
        "        data = response.json()\n",
        "        return data\n",
        "    else:\n",
        "        print(f\"Failed to fetch data. Status code: {response.status_code}\")\n",
        "        return None\n",
        "\n",
        "# Example usage\n",
        "api_key = \"2a4ee6033beb3fa5df5fd7c08409cf1d30b8e4bc\"\n",
        "symbol = \"AAPL\"  # Example symbol (Apple Inc.)\n",
        "start_date = \"2015-01-01\"\n",
        "data = fetch_data_from_tiingo(symbol, api_key, start_date)\n",
        "\n",
        "if data:\n",
        "    if len(data) > 0:\n",
        "        # Convert JSON data to DataFrame\n",
        "        df = pd.DataFrame(data)\n",
        "        print(\"DataFrame created successfully:\")\n",
        "        print(df.tail())\n",
        "    else:\n",
        "        print(\"No data returned from the API.\")\n"
      ]
    },
    {
      "cell_type": "code",
      "execution_count": null,
      "metadata": {
        "id": "tpfM05SnlM1m"
      },
      "outputs": [],
      "source": [
        "df.to_csv('AAPL.csv')"
      ]
    },
    {
      "cell_type": "code",
      "execution_count": null,
      "metadata": {
        "id": "KOkQFlZqlM1m"
      },
      "outputs": [],
      "source": [
        "import pandas as pd"
      ]
    },
    {
      "cell_type": "code",
      "execution_count": null,
      "metadata": {
        "id": "lJT1gXTFlM1m"
      },
      "outputs": [],
      "source": [
        "df=pd.read_csv('AAPL.csv')"
      ]
    },
    {
      "cell_type": "code",
      "execution_count": null,
      "metadata": {
        "id": "8BvnEtNylM1n",
        "outputId": "dd8b2db1-74b0-4b7f-c884-15a02599e667",
        "colab": {
          "base_uri": "https://localhost:8080/",
          "height": 310
        }
      },
      "outputs": [
        {
          "output_type": "execute_result",
          "data": {
            "text/plain": [
              "   Unnamed: 0                      date   close    high      low    open  \\\n",
              "0           0  2015-01-02T00:00:00.000Z  109.33  111.44  107.350  111.39   \n",
              "1           1  2015-01-05T00:00:00.000Z  106.25  108.65  105.410  108.29   \n",
              "2           2  2015-01-06T00:00:00.000Z  106.26  107.43  104.630  106.54   \n",
              "3           3  2015-01-07T00:00:00.000Z  107.75  108.20  106.695  107.20   \n",
              "4           4  2015-01-08T00:00:00.000Z  111.89  112.15  108.700  109.23   \n",
              "\n",
              "     volume   adjClose    adjHigh     adjLow    adjOpen  adjVolume  divCash  \\\n",
              "0  53204626  24.434066  24.905628  23.991558  24.894454  212818504      0.0   \n",
              "1  64285491  23.745720  24.282094  23.557989  24.201638  257141964      0.0   \n",
              "2  65797116  23.747955  24.009437  23.383667  23.810532  263188464      0.0   \n",
              "3  40105934  24.080954  24.181524  23.845173  23.958035  160423736      0.0   \n",
              "4  59364547  25.006199  25.064306  24.293268  24.411717  237458188      0.0   \n",
              "\n",
              "   splitFactor  \n",
              "0          1.0  \n",
              "1          1.0  \n",
              "2          1.0  \n",
              "3          1.0  \n",
              "4          1.0  "
            ],
            "text/html": [
              "\n",
              "  <div id=\"df-547feef0-be50-40e6-bdda-c3549e27f092\" class=\"colab-df-container\">\n",
              "    <div>\n",
              "<style scoped>\n",
              "    .dataframe tbody tr th:only-of-type {\n",
              "        vertical-align: middle;\n",
              "    }\n",
              "\n",
              "    .dataframe tbody tr th {\n",
              "        vertical-align: top;\n",
              "    }\n",
              "\n",
              "    .dataframe thead th {\n",
              "        text-align: right;\n",
              "    }\n",
              "</style>\n",
              "<table border=\"1\" class=\"dataframe\">\n",
              "  <thead>\n",
              "    <tr style=\"text-align: right;\">\n",
              "      <th></th>\n",
              "      <th>Unnamed: 0</th>\n",
              "      <th>date</th>\n",
              "      <th>close</th>\n",
              "      <th>high</th>\n",
              "      <th>low</th>\n",
              "      <th>open</th>\n",
              "      <th>volume</th>\n",
              "      <th>adjClose</th>\n",
              "      <th>adjHigh</th>\n",
              "      <th>adjLow</th>\n",
              "      <th>adjOpen</th>\n",
              "      <th>adjVolume</th>\n",
              "      <th>divCash</th>\n",
              "      <th>splitFactor</th>\n",
              "    </tr>\n",
              "  </thead>\n",
              "  <tbody>\n",
              "    <tr>\n",
              "      <th>0</th>\n",
              "      <td>0</td>\n",
              "      <td>2015-01-02T00:00:00.000Z</td>\n",
              "      <td>109.33</td>\n",
              "      <td>111.44</td>\n",
              "      <td>107.350</td>\n",
              "      <td>111.39</td>\n",
              "      <td>53204626</td>\n",
              "      <td>24.434066</td>\n",
              "      <td>24.905628</td>\n",
              "      <td>23.991558</td>\n",
              "      <td>24.894454</td>\n",
              "      <td>212818504</td>\n",
              "      <td>0.0</td>\n",
              "      <td>1.0</td>\n",
              "    </tr>\n",
              "    <tr>\n",
              "      <th>1</th>\n",
              "      <td>1</td>\n",
              "      <td>2015-01-05T00:00:00.000Z</td>\n",
              "      <td>106.25</td>\n",
              "      <td>108.65</td>\n",
              "      <td>105.410</td>\n",
              "      <td>108.29</td>\n",
              "      <td>64285491</td>\n",
              "      <td>23.745720</td>\n",
              "      <td>24.282094</td>\n",
              "      <td>23.557989</td>\n",
              "      <td>24.201638</td>\n",
              "      <td>257141964</td>\n",
              "      <td>0.0</td>\n",
              "      <td>1.0</td>\n",
              "    </tr>\n",
              "    <tr>\n",
              "      <th>2</th>\n",
              "      <td>2</td>\n",
              "      <td>2015-01-06T00:00:00.000Z</td>\n",
              "      <td>106.26</td>\n",
              "      <td>107.43</td>\n",
              "      <td>104.630</td>\n",
              "      <td>106.54</td>\n",
              "      <td>65797116</td>\n",
              "      <td>23.747955</td>\n",
              "      <td>24.009437</td>\n",
              "      <td>23.383667</td>\n",
              "      <td>23.810532</td>\n",
              "      <td>263188464</td>\n",
              "      <td>0.0</td>\n",
              "      <td>1.0</td>\n",
              "    </tr>\n",
              "    <tr>\n",
              "      <th>3</th>\n",
              "      <td>3</td>\n",
              "      <td>2015-01-07T00:00:00.000Z</td>\n",
              "      <td>107.75</td>\n",
              "      <td>108.20</td>\n",
              "      <td>106.695</td>\n",
              "      <td>107.20</td>\n",
              "      <td>40105934</td>\n",
              "      <td>24.080954</td>\n",
              "      <td>24.181524</td>\n",
              "      <td>23.845173</td>\n",
              "      <td>23.958035</td>\n",
              "      <td>160423736</td>\n",
              "      <td>0.0</td>\n",
              "      <td>1.0</td>\n",
              "    </tr>\n",
              "    <tr>\n",
              "      <th>4</th>\n",
              "      <td>4</td>\n",
              "      <td>2015-01-08T00:00:00.000Z</td>\n",
              "      <td>111.89</td>\n",
              "      <td>112.15</td>\n",
              "      <td>108.700</td>\n",
              "      <td>109.23</td>\n",
              "      <td>59364547</td>\n",
              "      <td>25.006199</td>\n",
              "      <td>25.064306</td>\n",
              "      <td>24.293268</td>\n",
              "      <td>24.411717</td>\n",
              "      <td>237458188</td>\n",
              "      <td>0.0</td>\n",
              "      <td>1.0</td>\n",
              "    </tr>\n",
              "  </tbody>\n",
              "</table>\n",
              "</div>\n",
              "    <div class=\"colab-df-buttons\">\n",
              "\n",
              "  <div class=\"colab-df-container\">\n",
              "    <button class=\"colab-df-convert\" onclick=\"convertToInteractive('df-547feef0-be50-40e6-bdda-c3549e27f092')\"\n",
              "            title=\"Convert this dataframe to an interactive table.\"\n",
              "            style=\"display:none;\">\n",
              "\n",
              "  <svg xmlns=\"http://www.w3.org/2000/svg\" height=\"24px\" viewBox=\"0 -960 960 960\">\n",
              "    <path d=\"M120-120v-720h720v720H120Zm60-500h600v-160H180v160Zm220 220h160v-160H400v160Zm0 220h160v-160H400v160ZM180-400h160v-160H180v160Zm440 0h160v-160H620v160ZM180-180h160v-160H180v160Zm440 0h160v-160H620v160Z\"/>\n",
              "  </svg>\n",
              "    </button>\n",
              "\n",
              "  <style>\n",
              "    .colab-df-container {\n",
              "      display:flex;\n",
              "      gap: 12px;\n",
              "    }\n",
              "\n",
              "    .colab-df-convert {\n",
              "      background-color: #E8F0FE;\n",
              "      border: none;\n",
              "      border-radius: 50%;\n",
              "      cursor: pointer;\n",
              "      display: none;\n",
              "      fill: #1967D2;\n",
              "      height: 32px;\n",
              "      padding: 0 0 0 0;\n",
              "      width: 32px;\n",
              "    }\n",
              "\n",
              "    .colab-df-convert:hover {\n",
              "      background-color: #E2EBFA;\n",
              "      box-shadow: 0px 1px 2px rgba(60, 64, 67, 0.3), 0px 1px 3px 1px rgba(60, 64, 67, 0.15);\n",
              "      fill: #174EA6;\n",
              "    }\n",
              "\n",
              "    .colab-df-buttons div {\n",
              "      margin-bottom: 4px;\n",
              "    }\n",
              "\n",
              "    [theme=dark] .colab-df-convert {\n",
              "      background-color: #3B4455;\n",
              "      fill: #D2E3FC;\n",
              "    }\n",
              "\n",
              "    [theme=dark] .colab-df-convert:hover {\n",
              "      background-color: #434B5C;\n",
              "      box-shadow: 0px 1px 3px 1px rgba(0, 0, 0, 0.15);\n",
              "      filter: drop-shadow(0px 1px 2px rgba(0, 0, 0, 0.3));\n",
              "      fill: #FFFFFF;\n",
              "    }\n",
              "  </style>\n",
              "\n",
              "    <script>\n",
              "      const buttonEl =\n",
              "        document.querySelector('#df-547feef0-be50-40e6-bdda-c3549e27f092 button.colab-df-convert');\n",
              "      buttonEl.style.display =\n",
              "        google.colab.kernel.accessAllowed ? 'block' : 'none';\n",
              "\n",
              "      async function convertToInteractive(key) {\n",
              "        const element = document.querySelector('#df-547feef0-be50-40e6-bdda-c3549e27f092');\n",
              "        const dataTable =\n",
              "          await google.colab.kernel.invokeFunction('convertToInteractive',\n",
              "                                                    [key], {});\n",
              "        if (!dataTable) return;\n",
              "\n",
              "        const docLinkHtml = 'Like what you see? Visit the ' +\n",
              "          '<a target=\"_blank\" href=https://colab.research.google.com/notebooks/data_table.ipynb>data table notebook</a>'\n",
              "          + ' to learn more about interactive tables.';\n",
              "        element.innerHTML = '';\n",
              "        dataTable['output_type'] = 'display_data';\n",
              "        await google.colab.output.renderOutput(dataTable, element);\n",
              "        const docLink = document.createElement('div');\n",
              "        docLink.innerHTML = docLinkHtml;\n",
              "        element.appendChild(docLink);\n",
              "      }\n",
              "    </script>\n",
              "  </div>\n",
              "\n",
              "\n",
              "<div id=\"df-d0557106-0d8e-41e5-a2f9-582639638f62\">\n",
              "  <button class=\"colab-df-quickchart\" onclick=\"quickchart('df-d0557106-0d8e-41e5-a2f9-582639638f62')\"\n",
              "            title=\"Suggest charts\"\n",
              "            style=\"display:none;\">\n",
              "\n",
              "<svg xmlns=\"http://www.w3.org/2000/svg\" height=\"24px\"viewBox=\"0 0 24 24\"\n",
              "     width=\"24px\">\n",
              "    <g>\n",
              "        <path d=\"M19 3H5c-1.1 0-2 .9-2 2v14c0 1.1.9 2 2 2h14c1.1 0 2-.9 2-2V5c0-1.1-.9-2-2-2zM9 17H7v-7h2v7zm4 0h-2V7h2v10zm4 0h-2v-4h2v4z\"/>\n",
              "    </g>\n",
              "</svg>\n",
              "  </button>\n",
              "\n",
              "<style>\n",
              "  .colab-df-quickchart {\n",
              "      --bg-color: #E8F0FE;\n",
              "      --fill-color: #1967D2;\n",
              "      --hover-bg-color: #E2EBFA;\n",
              "      --hover-fill-color: #174EA6;\n",
              "      --disabled-fill-color: #AAA;\n",
              "      --disabled-bg-color: #DDD;\n",
              "  }\n",
              "\n",
              "  [theme=dark] .colab-df-quickchart {\n",
              "      --bg-color: #3B4455;\n",
              "      --fill-color: #D2E3FC;\n",
              "      --hover-bg-color: #434B5C;\n",
              "      --hover-fill-color: #FFFFFF;\n",
              "      --disabled-bg-color: #3B4455;\n",
              "      --disabled-fill-color: #666;\n",
              "  }\n",
              "\n",
              "  .colab-df-quickchart {\n",
              "    background-color: var(--bg-color);\n",
              "    border: none;\n",
              "    border-radius: 50%;\n",
              "    cursor: pointer;\n",
              "    display: none;\n",
              "    fill: var(--fill-color);\n",
              "    height: 32px;\n",
              "    padding: 0;\n",
              "    width: 32px;\n",
              "  }\n",
              "\n",
              "  .colab-df-quickchart:hover {\n",
              "    background-color: var(--hover-bg-color);\n",
              "    box-shadow: 0 1px 2px rgba(60, 64, 67, 0.3), 0 1px 3px 1px rgba(60, 64, 67, 0.15);\n",
              "    fill: var(--button-hover-fill-color);\n",
              "  }\n",
              "\n",
              "  .colab-df-quickchart-complete:disabled,\n",
              "  .colab-df-quickchart-complete:disabled:hover {\n",
              "    background-color: var(--disabled-bg-color);\n",
              "    fill: var(--disabled-fill-color);\n",
              "    box-shadow: none;\n",
              "  }\n",
              "\n",
              "  .colab-df-spinner {\n",
              "    border: 2px solid var(--fill-color);\n",
              "    border-color: transparent;\n",
              "    border-bottom-color: var(--fill-color);\n",
              "    animation:\n",
              "      spin 1s steps(1) infinite;\n",
              "  }\n",
              "\n",
              "  @keyframes spin {\n",
              "    0% {\n",
              "      border-color: transparent;\n",
              "      border-bottom-color: var(--fill-color);\n",
              "      border-left-color: var(--fill-color);\n",
              "    }\n",
              "    20% {\n",
              "      border-color: transparent;\n",
              "      border-left-color: var(--fill-color);\n",
              "      border-top-color: var(--fill-color);\n",
              "    }\n",
              "    30% {\n",
              "      border-color: transparent;\n",
              "      border-left-color: var(--fill-color);\n",
              "      border-top-color: var(--fill-color);\n",
              "      border-right-color: var(--fill-color);\n",
              "    }\n",
              "    40% {\n",
              "      border-color: transparent;\n",
              "      border-right-color: var(--fill-color);\n",
              "      border-top-color: var(--fill-color);\n",
              "    }\n",
              "    60% {\n",
              "      border-color: transparent;\n",
              "      border-right-color: var(--fill-color);\n",
              "    }\n",
              "    80% {\n",
              "      border-color: transparent;\n",
              "      border-right-color: var(--fill-color);\n",
              "      border-bottom-color: var(--fill-color);\n",
              "    }\n",
              "    90% {\n",
              "      border-color: transparent;\n",
              "      border-bottom-color: var(--fill-color);\n",
              "    }\n",
              "  }\n",
              "</style>\n",
              "\n",
              "  <script>\n",
              "    async function quickchart(key) {\n",
              "      const quickchartButtonEl =\n",
              "        document.querySelector('#' + key + ' button');\n",
              "      quickchartButtonEl.disabled = true;  // To prevent multiple clicks.\n",
              "      quickchartButtonEl.classList.add('colab-df-spinner');\n",
              "      try {\n",
              "        const charts = await google.colab.kernel.invokeFunction(\n",
              "            'suggestCharts', [key], {});\n",
              "      } catch (error) {\n",
              "        console.error('Error during call to suggestCharts:', error);\n",
              "      }\n",
              "      quickchartButtonEl.classList.remove('colab-df-spinner');\n",
              "      quickchartButtonEl.classList.add('colab-df-quickchart-complete');\n",
              "    }\n",
              "    (() => {\n",
              "      let quickchartButtonEl =\n",
              "        document.querySelector('#df-d0557106-0d8e-41e5-a2f9-582639638f62 button');\n",
              "      quickchartButtonEl.style.display =\n",
              "        google.colab.kernel.accessAllowed ? 'block' : 'none';\n",
              "    })();\n",
              "  </script>\n",
              "</div>\n",
              "\n",
              "    </div>\n",
              "  </div>\n"
            ],
            "application/vnd.google.colaboratory.intrinsic+json": {
              "type": "dataframe",
              "variable_name": "df",
              "summary": "{\n  \"name\": \"df\",\n  \"rows\": 2350,\n  \"fields\": [\n    {\n      \"column\": \"Unnamed: 0\",\n      \"properties\": {\n        \"dtype\": \"number\",\n        \"std\": 678,\n        \"min\": 0,\n        \"max\": 2349,\n        \"num_unique_values\": 2350,\n        \"samples\": [\n          1395,\n          668,\n          2003\n        ],\n        \"semantic_type\": \"\",\n        \"description\": \"\"\n      }\n    },\n    {\n      \"column\": \"date\",\n      \"properties\": {\n        \"dtype\": \"object\",\n        \"num_unique_values\": 2350,\n        \"samples\": [\n          \"2020-07-20T00:00:00.000Z\",\n          \"2017-08-28T00:00:00.000Z\",\n          \"2022-12-15T00:00:00.000Z\"\n        ],\n        \"semantic_type\": \"\",\n        \"description\": \"\"\n      }\n    },\n    {\n      \"column\": \"close\",\n      \"properties\": {\n        \"dtype\": \"number\",\n        \"std\": 60.12946501199095,\n        \"min\": 90.34,\n        \"max\": 506.09,\n        \"num_unique_values\": 2159,\n        \"samples\": [\n          195.89,\n          168.11,\n          195.71\n        ],\n        \"semantic_type\": \"\",\n        \"description\": \"\"\n      }\n    },\n    {\n      \"column\": \"high\",\n      \"properties\": {\n        \"dtype\": \"number\",\n        \"std\": 60.746774865318905,\n        \"min\": 91.67,\n        \"max\": 515.14,\n        \"num_unique_values\": 2157,\n        \"samples\": [\n          173.95,\n          172.95,\n          133.25\n        ],\n        \"semantic_type\": \"\",\n        \"description\": \"\"\n      }\n    },\n    {\n      \"column\": \"low\",\n      \"properties\": {\n        \"dtype\": \"number\",\n        \"std\": 59.259127014347065,\n        \"min\": 89.47,\n        \"max\": 500.33,\n        \"num_unique_values\": 2205,\n        \"samples\": [\n          165.65,\n          208.44,\n          133.6921\n        ],\n        \"semantic_type\": \"\",\n        \"description\": \"\"\n      }\n    },\n    {\n      \"column\": \"open\",\n      \"properties\": {\n        \"dtype\": \"number\",\n        \"std\": 59.91102755501943,\n        \"min\": 90.0,\n        \"max\": 514.79,\n        \"num_unique_values\": 2160,\n        \"samples\": [\n          198.02,\n          163.89,\n          189.98\n        ],\n        \"semantic_type\": \"\",\n        \"description\": \"\"\n      }\n    },\n    {\n      \"column\": \"volume\",\n      \"properties\": {\n        \"dtype\": \"number\",\n        \"std\": 34449038,\n        \"min\": 11362045,\n        \"max\": 332607163,\n        \"num_unique_values\": 2350,\n        \"samples\": [\n          22397208,\n          25279674,\n          98931907\n        ],\n        \"semantic_type\": \"\",\n        \"description\": \"\"\n      }\n    },\n    {\n      \"column\": \"adjClose\",\n      \"properties\": {\n        \"dtype\": \"number\",\n        \"std\": 58.30858218524117,\n        \"min\": 20.7698496619,\n        \"max\": 197.8585514834,\n        \"num_unique_values\": 2318,\n        \"samples\": [\n          45.2839416878,\n          32.9996660363,\n          29.6895489031\n        ],\n        \"semantic_type\": \"\",\n        \"description\": \"\"\n      }\n    },\n    {\n      \"column\": \"adjHigh\",\n      \"properties\": {\n        \"dtype\": \"number\",\n        \"std\": 58.8861169513876,\n        \"min\": 21.0756267269,\n        \"max\": 199.3666349357,\n        \"num_unique_values\": 2315,\n        \"samples\": [\n          41.1213407686,\n          34.9204337476,\n          29.6016833387\n        ],\n        \"semantic_type\": \"\",\n        \"description\": \"\"\n      }\n    },\n    {\n      \"column\": \"adjLow\",\n      \"properties\": {\n        \"dtype\": \"number\",\n        \"std\": 57.67823540559437,\n        \"min\": 20.569830078,\n        \"max\": 196.7499603363,\n        \"num_unique_values\": 2319,\n        \"samples\": [\n          50.3605687728,\n          32.812989945,\n          29.0429484679\n        ],\n        \"semantic_type\": \"\",\n        \"description\": \"\"\n      }\n    },\n    {\n      \"column\": \"adjOpen\",\n      \"properties\": {\n        \"dtype\": \"number\",\n        \"std\": 58.26230477104159,\n        \"min\": 20.6916810889,\n        \"max\": 197.7686657147,\n        \"num_unique_values\": 2311,\n        \"samples\": [\n          150.6965401242,\n          29.5147838784,\n          45.4708165391\n        ],\n        \"semantic_type\": \"\",\n        \"description\": \"\"\n      }\n    },\n    {\n      \"column\": \"adjVolume\",\n      \"properties\": {\n        \"dtype\": \"number\",\n        \"std\": 67955836,\n        \"min\": 24048344,\n        \"max\": 648825168,\n        \"num_unique_values\": 2350,\n        \"samples\": [\n          89588832,\n          101118696,\n          98931907\n        ],\n        \"semantic_type\": \"\",\n        \"description\": \"\"\n      }\n    },\n    {\n      \"column\": \"divCash\",\n      \"properties\": {\n        \"dtype\": \"number\",\n        \"std\": 0.06722947524953363,\n        \"min\": 0.0,\n        \"max\": 0.82,\n        \"num_unique_values\": 12,\n        \"samples\": [\n          0.23,\n          0.22,\n          0.0\n        ],\n        \"semantic_type\": \"\",\n        \"description\": \"\"\n      }\n    },\n    {\n      \"column\": \"splitFactor\",\n      \"properties\": {\n        \"dtype\": \"number\",\n        \"std\": 0.06188527477552761,\n        \"min\": 1.0,\n        \"max\": 4.0,\n        \"num_unique_values\": 2,\n        \"samples\": [\n          4.0,\n          1.0\n        ],\n        \"semantic_type\": \"\",\n        \"description\": \"\"\n      }\n    }\n  ]\n}"
            }
          },
          "metadata": {},
          "execution_count": 7
        }
      ],
      "source": [
        "df.head()"
      ]
    },
    {
      "cell_type": "code",
      "execution_count": null,
      "metadata": {
        "id": "J-UR0-Y1lM1n",
        "outputId": "5fb363e7-2ab1-4184-aba8-cdec72dee7e8",
        "colab": {
          "base_uri": "https://localhost:8080/",
          "height": 310
        }
      },
      "outputs": [
        {
          "output_type": "execute_result",
          "data": {
            "text/plain": [
              "      Unnamed: 0                      date   close     high     low     open  \\\n",
              "2345        2345  2024-04-29T00:00:00.000Z  173.50  176.030  173.10  173.370   \n",
              "2346        2346  2024-04-30T00:00:00.000Z  170.33  174.990  170.00  173.330   \n",
              "2347        2347  2024-05-01T00:00:00.000Z  169.30  172.705  169.11  169.580   \n",
              "2348        2348  2024-05-02T00:00:00.000Z  173.03  173.415  170.89  172.510   \n",
              "2349        2349  2024-05-03T00:00:00.000Z  183.38  187.000  182.66  186.645   \n",
              "\n",
              "         volume  adjClose  adjHigh  adjLow  adjOpen  adjVolume  divCash  \\\n",
              "2345   68169419    173.50  176.030  173.10  173.370   68169419      0.0   \n",
              "2346   65934776    170.33  174.990  170.00  173.330   65934776      0.0   \n",
              "2347   50383147    169.30  172.705  169.11  169.580   50383147      0.0   \n",
              "2348   94214915    173.03  173.415  170.89  172.510   94214915      0.0   \n",
              "2349  163224109    183.38  187.000  182.66  186.645  163224109      0.0   \n",
              "\n",
              "      splitFactor  \n",
              "2345          1.0  \n",
              "2346          1.0  \n",
              "2347          1.0  \n",
              "2348          1.0  \n",
              "2349          1.0  "
            ],
            "text/html": [
              "\n",
              "  <div id=\"df-81a577db-7e31-4313-8f76-13ada485769c\" class=\"colab-df-container\">\n",
              "    <div>\n",
              "<style scoped>\n",
              "    .dataframe tbody tr th:only-of-type {\n",
              "        vertical-align: middle;\n",
              "    }\n",
              "\n",
              "    .dataframe tbody tr th {\n",
              "        vertical-align: top;\n",
              "    }\n",
              "\n",
              "    .dataframe thead th {\n",
              "        text-align: right;\n",
              "    }\n",
              "</style>\n",
              "<table border=\"1\" class=\"dataframe\">\n",
              "  <thead>\n",
              "    <tr style=\"text-align: right;\">\n",
              "      <th></th>\n",
              "      <th>Unnamed: 0</th>\n",
              "      <th>date</th>\n",
              "      <th>close</th>\n",
              "      <th>high</th>\n",
              "      <th>low</th>\n",
              "      <th>open</th>\n",
              "      <th>volume</th>\n",
              "      <th>adjClose</th>\n",
              "      <th>adjHigh</th>\n",
              "      <th>adjLow</th>\n",
              "      <th>adjOpen</th>\n",
              "      <th>adjVolume</th>\n",
              "      <th>divCash</th>\n",
              "      <th>splitFactor</th>\n",
              "    </tr>\n",
              "  </thead>\n",
              "  <tbody>\n",
              "    <tr>\n",
              "      <th>2345</th>\n",
              "      <td>2345</td>\n",
              "      <td>2024-04-29T00:00:00.000Z</td>\n",
              "      <td>173.50</td>\n",
              "      <td>176.030</td>\n",
              "      <td>173.10</td>\n",
              "      <td>173.370</td>\n",
              "      <td>68169419</td>\n",
              "      <td>173.50</td>\n",
              "      <td>176.030</td>\n",
              "      <td>173.10</td>\n",
              "      <td>173.370</td>\n",
              "      <td>68169419</td>\n",
              "      <td>0.0</td>\n",
              "      <td>1.0</td>\n",
              "    </tr>\n",
              "    <tr>\n",
              "      <th>2346</th>\n",
              "      <td>2346</td>\n",
              "      <td>2024-04-30T00:00:00.000Z</td>\n",
              "      <td>170.33</td>\n",
              "      <td>174.990</td>\n",
              "      <td>170.00</td>\n",
              "      <td>173.330</td>\n",
              "      <td>65934776</td>\n",
              "      <td>170.33</td>\n",
              "      <td>174.990</td>\n",
              "      <td>170.00</td>\n",
              "      <td>173.330</td>\n",
              "      <td>65934776</td>\n",
              "      <td>0.0</td>\n",
              "      <td>1.0</td>\n",
              "    </tr>\n",
              "    <tr>\n",
              "      <th>2347</th>\n",
              "      <td>2347</td>\n",
              "      <td>2024-05-01T00:00:00.000Z</td>\n",
              "      <td>169.30</td>\n",
              "      <td>172.705</td>\n",
              "      <td>169.11</td>\n",
              "      <td>169.580</td>\n",
              "      <td>50383147</td>\n",
              "      <td>169.30</td>\n",
              "      <td>172.705</td>\n",
              "      <td>169.11</td>\n",
              "      <td>169.580</td>\n",
              "      <td>50383147</td>\n",
              "      <td>0.0</td>\n",
              "      <td>1.0</td>\n",
              "    </tr>\n",
              "    <tr>\n",
              "      <th>2348</th>\n",
              "      <td>2348</td>\n",
              "      <td>2024-05-02T00:00:00.000Z</td>\n",
              "      <td>173.03</td>\n",
              "      <td>173.415</td>\n",
              "      <td>170.89</td>\n",
              "      <td>172.510</td>\n",
              "      <td>94214915</td>\n",
              "      <td>173.03</td>\n",
              "      <td>173.415</td>\n",
              "      <td>170.89</td>\n",
              "      <td>172.510</td>\n",
              "      <td>94214915</td>\n",
              "      <td>0.0</td>\n",
              "      <td>1.0</td>\n",
              "    </tr>\n",
              "    <tr>\n",
              "      <th>2349</th>\n",
              "      <td>2349</td>\n",
              "      <td>2024-05-03T00:00:00.000Z</td>\n",
              "      <td>183.38</td>\n",
              "      <td>187.000</td>\n",
              "      <td>182.66</td>\n",
              "      <td>186.645</td>\n",
              "      <td>163224109</td>\n",
              "      <td>183.38</td>\n",
              "      <td>187.000</td>\n",
              "      <td>182.66</td>\n",
              "      <td>186.645</td>\n",
              "      <td>163224109</td>\n",
              "      <td>0.0</td>\n",
              "      <td>1.0</td>\n",
              "    </tr>\n",
              "  </tbody>\n",
              "</table>\n",
              "</div>\n",
              "    <div class=\"colab-df-buttons\">\n",
              "\n",
              "  <div class=\"colab-df-container\">\n",
              "    <button class=\"colab-df-convert\" onclick=\"convertToInteractive('df-81a577db-7e31-4313-8f76-13ada485769c')\"\n",
              "            title=\"Convert this dataframe to an interactive table.\"\n",
              "            style=\"display:none;\">\n",
              "\n",
              "  <svg xmlns=\"http://www.w3.org/2000/svg\" height=\"24px\" viewBox=\"0 -960 960 960\">\n",
              "    <path d=\"M120-120v-720h720v720H120Zm60-500h600v-160H180v160Zm220 220h160v-160H400v160Zm0 220h160v-160H400v160ZM180-400h160v-160H180v160Zm440 0h160v-160H620v160ZM180-180h160v-160H180v160Zm440 0h160v-160H620v160Z\"/>\n",
              "  </svg>\n",
              "    </button>\n",
              "\n",
              "  <style>\n",
              "    .colab-df-container {\n",
              "      display:flex;\n",
              "      gap: 12px;\n",
              "    }\n",
              "\n",
              "    .colab-df-convert {\n",
              "      background-color: #E8F0FE;\n",
              "      border: none;\n",
              "      border-radius: 50%;\n",
              "      cursor: pointer;\n",
              "      display: none;\n",
              "      fill: #1967D2;\n",
              "      height: 32px;\n",
              "      padding: 0 0 0 0;\n",
              "      width: 32px;\n",
              "    }\n",
              "\n",
              "    .colab-df-convert:hover {\n",
              "      background-color: #E2EBFA;\n",
              "      box-shadow: 0px 1px 2px rgba(60, 64, 67, 0.3), 0px 1px 3px 1px rgba(60, 64, 67, 0.15);\n",
              "      fill: #174EA6;\n",
              "    }\n",
              "\n",
              "    .colab-df-buttons div {\n",
              "      margin-bottom: 4px;\n",
              "    }\n",
              "\n",
              "    [theme=dark] .colab-df-convert {\n",
              "      background-color: #3B4455;\n",
              "      fill: #D2E3FC;\n",
              "    }\n",
              "\n",
              "    [theme=dark] .colab-df-convert:hover {\n",
              "      background-color: #434B5C;\n",
              "      box-shadow: 0px 1px 3px 1px rgba(0, 0, 0, 0.15);\n",
              "      filter: drop-shadow(0px 1px 2px rgba(0, 0, 0, 0.3));\n",
              "      fill: #FFFFFF;\n",
              "    }\n",
              "  </style>\n",
              "\n",
              "    <script>\n",
              "      const buttonEl =\n",
              "        document.querySelector('#df-81a577db-7e31-4313-8f76-13ada485769c button.colab-df-convert');\n",
              "      buttonEl.style.display =\n",
              "        google.colab.kernel.accessAllowed ? 'block' : 'none';\n",
              "\n",
              "      async function convertToInteractive(key) {\n",
              "        const element = document.querySelector('#df-81a577db-7e31-4313-8f76-13ada485769c');\n",
              "        const dataTable =\n",
              "          await google.colab.kernel.invokeFunction('convertToInteractive',\n",
              "                                                    [key], {});\n",
              "        if (!dataTable) return;\n",
              "\n",
              "        const docLinkHtml = 'Like what you see? Visit the ' +\n",
              "          '<a target=\"_blank\" href=https://colab.research.google.com/notebooks/data_table.ipynb>data table notebook</a>'\n",
              "          + ' to learn more about interactive tables.';\n",
              "        element.innerHTML = '';\n",
              "        dataTable['output_type'] = 'display_data';\n",
              "        await google.colab.output.renderOutput(dataTable, element);\n",
              "        const docLink = document.createElement('div');\n",
              "        docLink.innerHTML = docLinkHtml;\n",
              "        element.appendChild(docLink);\n",
              "      }\n",
              "    </script>\n",
              "  </div>\n",
              "\n",
              "\n",
              "<div id=\"df-727e2a7e-846f-4698-a830-7325d73588c7\">\n",
              "  <button class=\"colab-df-quickchart\" onclick=\"quickchart('df-727e2a7e-846f-4698-a830-7325d73588c7')\"\n",
              "            title=\"Suggest charts\"\n",
              "            style=\"display:none;\">\n",
              "\n",
              "<svg xmlns=\"http://www.w3.org/2000/svg\" height=\"24px\"viewBox=\"0 0 24 24\"\n",
              "     width=\"24px\">\n",
              "    <g>\n",
              "        <path d=\"M19 3H5c-1.1 0-2 .9-2 2v14c0 1.1.9 2 2 2h14c1.1 0 2-.9 2-2V5c0-1.1-.9-2-2-2zM9 17H7v-7h2v7zm4 0h-2V7h2v10zm4 0h-2v-4h2v4z\"/>\n",
              "    </g>\n",
              "</svg>\n",
              "  </button>\n",
              "\n",
              "<style>\n",
              "  .colab-df-quickchart {\n",
              "      --bg-color: #E8F0FE;\n",
              "      --fill-color: #1967D2;\n",
              "      --hover-bg-color: #E2EBFA;\n",
              "      --hover-fill-color: #174EA6;\n",
              "      --disabled-fill-color: #AAA;\n",
              "      --disabled-bg-color: #DDD;\n",
              "  }\n",
              "\n",
              "  [theme=dark] .colab-df-quickchart {\n",
              "      --bg-color: #3B4455;\n",
              "      --fill-color: #D2E3FC;\n",
              "      --hover-bg-color: #434B5C;\n",
              "      --hover-fill-color: #FFFFFF;\n",
              "      --disabled-bg-color: #3B4455;\n",
              "      --disabled-fill-color: #666;\n",
              "  }\n",
              "\n",
              "  .colab-df-quickchart {\n",
              "    background-color: var(--bg-color);\n",
              "    border: none;\n",
              "    border-radius: 50%;\n",
              "    cursor: pointer;\n",
              "    display: none;\n",
              "    fill: var(--fill-color);\n",
              "    height: 32px;\n",
              "    padding: 0;\n",
              "    width: 32px;\n",
              "  }\n",
              "\n",
              "  .colab-df-quickchart:hover {\n",
              "    background-color: var(--hover-bg-color);\n",
              "    box-shadow: 0 1px 2px rgba(60, 64, 67, 0.3), 0 1px 3px 1px rgba(60, 64, 67, 0.15);\n",
              "    fill: var(--button-hover-fill-color);\n",
              "  }\n",
              "\n",
              "  .colab-df-quickchart-complete:disabled,\n",
              "  .colab-df-quickchart-complete:disabled:hover {\n",
              "    background-color: var(--disabled-bg-color);\n",
              "    fill: var(--disabled-fill-color);\n",
              "    box-shadow: none;\n",
              "  }\n",
              "\n",
              "  .colab-df-spinner {\n",
              "    border: 2px solid var(--fill-color);\n",
              "    border-color: transparent;\n",
              "    border-bottom-color: var(--fill-color);\n",
              "    animation:\n",
              "      spin 1s steps(1) infinite;\n",
              "  }\n",
              "\n",
              "  @keyframes spin {\n",
              "    0% {\n",
              "      border-color: transparent;\n",
              "      border-bottom-color: var(--fill-color);\n",
              "      border-left-color: var(--fill-color);\n",
              "    }\n",
              "    20% {\n",
              "      border-color: transparent;\n",
              "      border-left-color: var(--fill-color);\n",
              "      border-top-color: var(--fill-color);\n",
              "    }\n",
              "    30% {\n",
              "      border-color: transparent;\n",
              "      border-left-color: var(--fill-color);\n",
              "      border-top-color: var(--fill-color);\n",
              "      border-right-color: var(--fill-color);\n",
              "    }\n",
              "    40% {\n",
              "      border-color: transparent;\n",
              "      border-right-color: var(--fill-color);\n",
              "      border-top-color: var(--fill-color);\n",
              "    }\n",
              "    60% {\n",
              "      border-color: transparent;\n",
              "      border-right-color: var(--fill-color);\n",
              "    }\n",
              "    80% {\n",
              "      border-color: transparent;\n",
              "      border-right-color: var(--fill-color);\n",
              "      border-bottom-color: var(--fill-color);\n",
              "    }\n",
              "    90% {\n",
              "      border-color: transparent;\n",
              "      border-bottom-color: var(--fill-color);\n",
              "    }\n",
              "  }\n",
              "</style>\n",
              "\n",
              "  <script>\n",
              "    async function quickchart(key) {\n",
              "      const quickchartButtonEl =\n",
              "        document.querySelector('#' + key + ' button');\n",
              "      quickchartButtonEl.disabled = true;  // To prevent multiple clicks.\n",
              "      quickchartButtonEl.classList.add('colab-df-spinner');\n",
              "      try {\n",
              "        const charts = await google.colab.kernel.invokeFunction(\n",
              "            'suggestCharts', [key], {});\n",
              "      } catch (error) {\n",
              "        console.error('Error during call to suggestCharts:', error);\n",
              "      }\n",
              "      quickchartButtonEl.classList.remove('colab-df-spinner');\n",
              "      quickchartButtonEl.classList.add('colab-df-quickchart-complete');\n",
              "    }\n",
              "    (() => {\n",
              "      let quickchartButtonEl =\n",
              "        document.querySelector('#df-727e2a7e-846f-4698-a830-7325d73588c7 button');\n",
              "      quickchartButtonEl.style.display =\n",
              "        google.colab.kernel.accessAllowed ? 'block' : 'none';\n",
              "    })();\n",
              "  </script>\n",
              "</div>\n",
              "\n",
              "    </div>\n",
              "  </div>\n"
            ],
            "application/vnd.google.colaboratory.intrinsic+json": {
              "type": "dataframe",
              "repr_error": "0"
            }
          },
          "metadata": {},
          "execution_count": 8
        }
      ],
      "source": [
        "df.tail()"
      ]
    },
    {
      "cell_type": "code",
      "execution_count": null,
      "metadata": {
        "id": "AQfGvEwslM1n"
      },
      "outputs": [],
      "source": [
        "df1=df.reset_index()['close']"
      ]
    },
    {
      "cell_type": "code",
      "execution_count": null,
      "metadata": {
        "id": "LOAD-b7IlM1n",
        "outputId": "aab228ad-bf47-4272-b0e4-dae6a4d93f00",
        "colab": {
          "base_uri": "https://localhost:8080/"
        }
      },
      "outputs": [
        {
          "output_type": "execute_result",
          "data": {
            "text/plain": [
              "0       109.33\n",
              "1       106.25\n",
              "2       106.26\n",
              "3       107.75\n",
              "4       111.89\n",
              "         ...  \n",
              "2339    165.00\n",
              "2340    165.84\n",
              "2341    166.90\n",
              "2342    169.02\n",
              "2343    169.89\n",
              "Name: close, Length: 2344, dtype: float64"
            ]
          },
          "metadata": {},
          "execution_count": 11
        }
      ],
      "source": [
        "df1"
      ]
    },
    {
      "cell_type": "code",
      "execution_count": null,
      "metadata": {
        "id": "mLWEgN2AlM1n",
        "outputId": "60fd2a70-a711-405b-d016-4b7b05fb50e7",
        "colab": {
          "base_uri": "https://localhost:8080/",
          "height": 447
        }
      },
      "outputs": [
        {
          "output_type": "execute_result",
          "data": {
            "text/plain": [
              "[<matplotlib.lines.Line2D at 0x7d79f3869300>]"
            ]
          },
          "metadata": {},
          "execution_count": 10
        },
        {
          "output_type": "display_data",
          "data": {
            "text/plain": [
              "<Figure size 640x480 with 1 Axes>"
            ],
            "image/png": "[encoded data removed]"
          },
          "metadata": {}
        }
      ],
      "source": [
        "import matplotlib.pyplot as plt\n",
        "plt.plot(df1)"
      ]
    },
    {
      "cell_type": "code",
      "execution_count": null,
      "metadata": {
        "id": "HtTk2FC9lM1o"
      },
      "outputs": [],
      "source": [
        "### LSTM are sensitive to the scale of the data. so we apply MinMax scaler"
      ]
    },
    {
      "cell_type": "code",
      "execution_count": null,
      "metadata": {
        "id": "1_ir-I1hlM1o"
      },
      "outputs": [],
      "source": [
        "import numpy as np"
      ]
    },
    {
      "cell_type": "code",
      "execution_count": null,
      "metadata": {
        "id": "MvC02F43lM1o",
        "outputId": "267bd807-4302-4de8-d03e-a11e4e0d6352",
        "colab": {
          "base_uri": "https://localhost:8080/"
        }
      },
      "outputs": [
        {
          "output_type": "execute_result",
          "data": {
            "text/plain": [
              "0       109.33\n",
              "1       106.25\n",
              "2       106.26\n",
              "3       107.75\n",
              "4       111.89\n",
              "         ...  \n",
              "2339    165.00\n",
              "2340    165.84\n",
              "2341    166.90\n",
              "2342    169.02\n",
              "2343    169.89\n",
              "Name: close, Length: 2344, dtype: float64"
            ]
          },
          "metadata": {},
          "execution_count": 14
        }
      ],
      "source": [
        "df1"
      ]
    },
    {
      "cell_type": "code",
      "execution_count": null,
      "metadata": {
        "id": "esi9nqjZlM1o"
      },
      "outputs": [],
      "source": [
        "from sklearn.preprocessing import MinMaxScaler\n",
        "scaler=MinMaxScaler(feature_range=(0,1))\n",
        "df1=scaler.fit_transform(np.array(df1).reshape(-1,1))"
      ]
    },
    {
      "cell_type": "code",
      "execution_count": null,
      "metadata": {
        "id": "XisDZfOWlM1o",
        "outputId": "bc3c722d-09e4-4f2e-dab0-ce0d0d312cde",
        "colab": {
          "base_uri": "https://localhost:8080/"
        }
      },
      "outputs": [
        {
          "output_type": "stream",
          "name": "stdout",
          "text": [
            "[[0.04567649]\n",
            " [0.03826819]\n",
            " [0.03829224]\n",
            " ...\n",
            " [0.18992183]\n",
            " [0.19889357]\n",
            " [0.22378833]]\n"
          ]
        }
      ],
      "source": [
        "print(df1)"
      ]
    },
    {
      "cell_type": "code",
      "execution_count": null,
      "metadata": {
        "id": "X1pqr8qdlM1o"
      },
      "outputs": [],
      "source": [
        "##splitting dataset into train and test split\n",
        "training_size=int(len(df1)*0.65)\n",
        "test_size=len(df1)-training_size\n",
        "train_data,test_data=df1[0:training_size,:],df1[training_size:len(df1),:1]"
      ]
    },
    {
      "cell_type": "code",
      "execution_count": null,
      "metadata": {
        "id": "--iQzWyClM1o",
        "outputId": "7f409683-3658-4588-f72f-29f008d4d3bd",
        "colab": {
          "base_uri": "https://localhost:8080/"
        }
      },
      "outputs": [
        {
          "output_type": "execute_result",
          "data": {
            "text/plain": [
              "(1527, 823)"
            ]
          },
          "metadata": {},
          "execution_count": 15
        }
      ],
      "source": [
        "training_size,test_size"
      ]
    },
    {
      "cell_type": "code",
      "execution_count": null,
      "metadata": {
        "id": "CyvP-W-slM1p",
        "outputId": "b7c980b5-9b8b-4b5e-ae96-c851c1b874e7",
        "colab": {
          "base_uri": "https://localhost:8080/"
        }
      },
      "outputs": [
        {
          "output_type": "execute_result",
          "data": {
            "text/plain": [
              "array([[0.04567649],\n",
              "       [0.03826819],\n",
              "       [0.03829224],\n",
              "       ...,\n",
              "       [0.11720986],\n",
              "       [0.12647023],\n",
              "       [0.1270475 ]])"
            ]
          },
          "metadata": {},
          "execution_count": 16
        }
      ],
      "source": [
        "train_data"
      ]
    },
    {
      "cell_type": "code",
      "execution_count": null,
      "metadata": {
        "id": "2ogWxLSYlM1p"
      },
      "outputs": [],
      "source": [
        "import numpy\n",
        "# convert an array of values into a dataset matrix\n",
        "def create_dataset(dataset, time_step=1):\n",
        "\tdataX, dataY = [], []\n",
        "\tfor i in range(len(dataset)-time_step-1):\n",
        "\t\ta = dataset[i:(i+time_step), 0]   ###i=0, 0,1,2,3-----99   100\n",
        "\t\tdataX.append(a)\n",
        "\t\tdataY.append(dataset[i + time_step, 0])\n",
        "\treturn numpy.array(dataX), numpy.array(dataY)"
      ]
    },
    {
      "cell_type": "code",
      "execution_count": null,
      "metadata": {
        "id": "AY29g8aflM1p"
      },
      "outputs": [],
      "source": [
        "# reshape into X=t,t+1,t+2,t+3 and Y=t+4\n",
        "time_step = 100\n",
        "X_train, y_train = create_dataset(train_data, time_step)\n",
        "X_test, ytest = create_dataset(test_data, time_step)"
      ]
    },
    {
      "cell_type": "code",
      "execution_count": null,
      "metadata": {
        "id": "2c2PfmPclM1p",
        "outputId": "ac663bed-208c-4040-cb8f-b6316823fca5",
        "colab": {
          "base_uri": "https://localhost:8080/"
        }
      },
      "outputs": [
        {
          "output_type": "stream",
          "name": "stdout",
          "text": [
            "(1426, 100)\n",
            "(1426,)\n"
          ]
        },
        {
          "output_type": "execute_result",
          "data": {
            "text/plain": [
              "(None, None)"
            ]
          },
          "metadata": {},
          "execution_count": 19
        }
      ],
      "source": [
        "print(X_train.shape), print(y_train.shape)"
      ]
    },
    {
      "cell_type": "code",
      "execution_count": null,
      "metadata": {
        "id": "qTXDy1dQlM1p",
        "outputId": "3e319027-0ad5-479b-d231-c61285f790f6",
        "colab": {
          "base_uri": "https://localhost:8080/"
        }
      },
      "outputs": [
        {
          "output_type": "stream",
          "name": "stdout",
          "text": [
            "(722, 100)\n",
            "(722,)\n"
          ]
        },
        {
          "output_type": "execute_result",
          "data": {
            "text/plain": [
              "(None, None)"
            ]
          },
          "metadata": {},
          "execution_count": 20
        }
      ],
      "source": [
        "print(X_test.shape), print(ytest.shape)"
      ]
    },
    {
      "cell_type": "code",
      "source": [
        "# Concatenate training and test target variables\n",
        "all_y = np.concatenate([y_train, ytest])\n",
        "\n",
        "# Find the minimum and maximum values\n",
        "min_value = np.min(all_y)\n",
        "max_value = np.max(all_y)\n",
        "\n",
        "print(\"Minimum value:\", min_value)\n",
        "print(\"Maximum value:\", max_value)\n"
      ],
      "metadata": {
        "colab": {
          "base_uri": "https://localhost:8080/"
        },
        "id": "5EbTmLm4wm59",
        "outputId": "693e5ffc-6b98-464c-8885-40d26819cf89"
      },
      "execution_count": null,
      "outputs": [
        {
          "output_type": "stream",
          "name": "stdout",
          "text": [
            "Minimum value: 0.0\n",
            "Maximum value: 1.0\n"
          ]
        }
      ]
    },
    {
      "cell_type": "code",
      "execution_count": null,
      "metadata": {
        "id": "v4UbBmG1lM1p"
      },
      "outputs": [],
      "source": [
        "# reshape input to be [samples, time steps, features] which is required for LSTM\n",
        "X_train =X_train.reshape(X_train.shape[0],X_train.shape[1] , 1)\n",
        "X_test = X_test.reshape(X_test.shape[0],X_test.shape[1] , 1)"
      ]
    },
    {
      "cell_type": "code",
      "execution_count": null,
      "metadata": {
        "id": "wJnOeOJRlM1p"
      },
      "outputs": [],
      "source": [
        "### Create the Stacked LSTM model\n",
        "from tensorflow.keras.models import Sequential\n",
        "from tensorflow.keras.layers import Dense\n",
        "from tensorflow.keras.layers import LSTM"
      ]
    },
    {
      "cell_type": "code",
      "execution_count": null,
      "metadata": {
        "id": "oadi6X6qlM1q"
      },
      "outputs": [],
      "source": [
        "model=Sequential()\n",
        "model.add(LSTM(50,return_sequences=True,input_shape=(100,1)))\n",
        "model.add(LSTM(50,return_sequences=True))\n",
        "model.add(LSTM(50))\n",
        "model.add(Dense(1))\n",
        "model.compile(loss='mean_squared_error',optimizer='adam')\n"
      ]
    },
    {
      "cell_type": "code",
      "execution_count": null,
      "metadata": {
        "id": "Da_M6YDjlM1q",
        "outputId": "ba1a705e-4444-4fea-8621-7d803da44116",
        "colab": {
          "base_uri": "https://localhost:8080/"
        }
      },
      "outputs": [
        {
          "output_type": "stream",
          "name": "stdout",
          "text": [
            "Model: \"sequential\"\n",
            "_________________________________________________________________\n",
            " Layer (type)                Output Shape              Param #   \n",
            "=================================================================\n",
            " lstm (LSTM)                 (None, 100, 50)           10400     \n",
            "                                                                 \n",
            " lstm_1 (LSTM)               (None, 100, 50)           20200     \n",
            "                                                                 \n",
            " lstm_2 (LSTM)               (None, 50)                20200     \n",
            "                                                                 \n",
            " dense (Dense)               (None, 1)                 51        \n",
            "                                                                 \n",
            "=================================================================\n",
            "Total params: 50851 (198.64 KB)\n",
            "Trainable params: 50851 (198.64 KB)\n",
            "Non-trainable params: 0 (0.00 Byte)\n",
            "_________________________________________________________________\n"
          ]
        }
      ],
      "source": [
        "model.summary()"
      ]
    },
    {
      "cell_type": "code",
      "execution_count": null,
      "metadata": {
        "id": "2m_kNGVDlM1q",
        "outputId": "d9d9ad7a-ca7e-41e8-d3e8-6900503aee54",
        "colab": {
          "base_uri": "https://localhost:8080/"
        }
      },
      "outputs": [
        {
          "output_type": "stream",
          "name": "stdout",
          "text": [
            "Model: \"sequential\"\n",
            "_________________________________________________________________\n",
            " Layer (type)                Output Shape              Param #   \n",
            "=================================================================\n",
            " lstm (LSTM)                 (None, 100, 50)           10400     \n",
            "                                                                 \n",
            " lstm_1 (LSTM)               (None, 100, 50)           20200     \n",
            "                                                                 \n",
            " lstm_2 (LSTM)               (None, 50)                20200     \n",
            "                                                                 \n",
            " dense (Dense)               (None, 1)                 51        \n",
            "                                                                 \n",
            "=================================================================\n",
            "Total params: 50851 (198.64 KB)\n",
            "Trainable params: 50851 (198.64 KB)\n",
            "Non-trainable params: 0 (0.00 Byte)\n",
            "_________________________________________________________________\n"
          ]
        }
      ],
      "source": [
        "model.summary()"
      ]
    },
    {
      "cell_type": "code",
      "execution_count": null,
      "metadata": {
        "id": "R4ebA-KhlM1q",
        "outputId": "ee5c2e2a-0f0a-408c-bc77-01b20f2466ab",
        "colab": {
          "base_uri": "https://localhost:8080/"
        }
      },
      "outputs": [
        {
          "output_type": "stream",
          "name": "stdout",
          "text": [
            "Epoch 1/100\n",
            "23/23 [==============================] - 12s 246ms/step - loss: 0.0239 - val_loss: 5.1001e-04\n",
            "Epoch 2/100\n",
            "23/23 [==============================] - 4s 183ms/step - loss: 0.0056 - val_loss: 3.5089e-04\n",
            "Epoch 3/100\n",
            "23/23 [==============================] - 5s 239ms/step - loss: 0.0046 - val_loss: 5.3842e-04\n",
            "Epoch 4/100\n",
            "23/23 [==============================] - 4s 184ms/step - loss: 0.0040 - val_loss: 3.5257e-04\n",
            "Epoch 5/100\n",
            "23/23 [==============================] - 5s 216ms/step - loss: 0.0035 - val_loss: 2.7562e-04\n",
            "Epoch 6/100\n",
            "23/23 [==============================] - 5s 199ms/step - loss: 0.0035 - val_loss: 2.6881e-04\n",
            "Epoch 7/100\n",
            "23/23 [==============================] - 4s 185ms/step - loss: 0.0028 - val_loss: 3.8137e-04\n",
            "Epoch 8/100\n",
            "23/23 [==============================] - 6s 260ms/step - loss: 0.0026 - val_loss: 2.9994e-04\n",
            "Epoch 9/100\n",
            "23/23 [==============================] - 5s 207ms/step - loss: 0.0024 - val_loss: 6.2123e-04\n",
            "Epoch 10/100\n",
            "23/23 [==============================] - 4s 184ms/step - loss: 0.0025 - val_loss: 2.5562e-04\n",
            "Epoch 11/100\n",
            "23/23 [==============================] - 5s 235ms/step - loss: 0.0019 - val_loss: 4.1200e-04\n",
            "Epoch 12/100\n",
            "23/23 [==============================] - 5s 214ms/step - loss: 0.0018 - val_loss: 2.0912e-04\n",
            "Epoch 13/100\n",
            "23/23 [==============================] - 4s 186ms/step - loss: 0.0018 - val_loss: 4.7390e-04\n",
            "Epoch 14/100\n",
            "23/23 [==============================] - 5s 232ms/step - loss: 0.0020 - val_loss: 2.0772e-04\n",
            "Epoch 15/100\n",
            "23/23 [==============================] - 4s 186ms/step - loss: 0.0016 - val_loss: 5.3406e-04\n",
            "Epoch 16/100\n",
            "23/23 [==============================] - 5s 204ms/step - loss: 0.0020 - val_loss: 2.0115e-04\n",
            "Epoch 17/100\n",
            "23/23 [==============================] - 5s 211ms/step - loss: 0.0014 - val_loss: 5.1415e-04\n",
            "Epoch 18/100\n",
            "23/23 [==============================] - 4s 185ms/step - loss: 0.0017 - val_loss: 1.8615e-04\n",
            "Epoch 19/100\n",
            "23/23 [==============================] - 6s 245ms/step - loss: 0.0013 - val_loss: 2.3782e-04\n",
            "Epoch 20/100\n",
            "23/23 [==============================] - 4s 186ms/step - loss: 0.0013 - val_loss: 2.1067e-04\n",
            "Epoch 21/100\n",
            "23/23 [==============================] - 4s 183ms/step - loss: 0.0013 - val_loss: 1.7104e-04\n",
            "Epoch 22/100\n",
            "23/23 [==============================] - 5s 235ms/step - loss: 0.0014 - val_loss: 2.3269e-04\n",
            "Epoch 23/100\n",
            "23/23 [==============================] - 4s 187ms/step - loss: 0.0022 - val_loss: 2.2065e-04\n",
            "Epoch 24/100\n",
            "23/23 [==============================] - 4s 184ms/step - loss: 0.0017 - val_loss: 3.9717e-04\n",
            "Epoch 25/100\n",
            "23/23 [==============================] - 5s 238ms/step - loss: 0.0016 - val_loss: 4.1987e-04\n",
            "Epoch 26/100\n",
            "23/23 [==============================] - 4s 187ms/step - loss: 0.0013 - val_loss: 2.3844e-04\n",
            "Epoch 27/100\n",
            "23/23 [==============================] - 4s 195ms/step - loss: 0.0017 - val_loss: 2.4944e-04\n",
            "Epoch 28/100\n",
            "23/23 [==============================] - 5s 214ms/step - loss: 0.0013 - val_loss: 2.2160e-04\n",
            "Epoch 29/100\n",
            "23/23 [==============================] - 4s 184ms/step - loss: 0.0011 - val_loss: 2.1714e-04\n",
            "Epoch 30/100\n",
            "23/23 [==============================] - 5s 238ms/step - loss: 9.4736e-04 - val_loss: 1.6917e-04\n",
            "Epoch 31/100\n",
            "23/23 [==============================] - 4s 183ms/step - loss: 9.3004e-04 - val_loss: 2.1517e-04\n",
            "Epoch 32/100\n",
            "23/23 [==============================] - 4s 184ms/step - loss: 0.0017 - val_loss: 1.6459e-04\n",
            "Epoch 33/100\n",
            "23/23 [==============================] - 5s 236ms/step - loss: 0.0014 - val_loss: 1.9955e-04\n",
            "Epoch 34/100\n",
            "23/23 [==============================] - 4s 185ms/step - loss: 0.0011 - val_loss: 1.5862e-04\n",
            "Epoch 35/100\n",
            "23/23 [==============================] - 4s 184ms/step - loss: 9.9351e-04 - val_loss: 1.8023e-04\n",
            "Epoch 36/100\n",
            "23/23 [==============================] - 5s 237ms/step - loss: 0.0012 - val_loss: 2.9649e-04\n",
            "Epoch 37/100\n",
            "23/23 [==============================] - 4s 184ms/step - loss: 0.0011 - val_loss: 2.4112e-04\n",
            "Epoch 38/100\n",
            "23/23 [==============================] - 4s 189ms/step - loss: 8.7015e-04 - val_loss: 2.2200e-04\n",
            "Epoch 39/100\n",
            "23/23 [==============================] - 5s 226ms/step - loss: 0.0016 - val_loss: 1.9726e-04\n",
            "Epoch 40/100\n",
            "23/23 [==============================] - 4s 183ms/step - loss: 0.0013 - val_loss: 3.2835e-04\n",
            "Epoch 41/100\n",
            "23/23 [==============================] - 5s 231ms/step - loss: 0.0014 - val_loss: 1.6111e-04\n",
            "Epoch 42/100\n",
            "23/23 [==============================] - 6s 237ms/step - loss: 0.0012 - val_loss: 1.6338e-04\n",
            "Epoch 43/100\n",
            "23/23 [==============================] - 4s 183ms/step - loss: 9.8511e-04 - val_loss: 1.7899e-04\n",
            "Epoch 44/100\n",
            "23/23 [==============================] - 5s 239ms/step - loss: 0.0013 - val_loss: 2.7994e-04\n",
            "Epoch 45/100\n",
            "23/23 [==============================] - 4s 184ms/step - loss: 0.0011 - val_loss: 1.6690e-04\n",
            "Epoch 46/100\n",
            "23/23 [==============================] - 4s 183ms/step - loss: 0.0010 - val_loss: 1.5475e-04\n",
            "Epoch 47/100\n",
            "23/23 [==============================] - 5s 235ms/step - loss: 8.9322e-04 - val_loss: 1.9775e-04\n",
            "Epoch 48/100\n",
            "23/23 [==============================] - 4s 185ms/step - loss: 7.6474e-04 - val_loss: 1.8543e-04\n",
            "Epoch 49/100\n",
            "23/23 [==============================] - 4s 183ms/step - loss: 7.1548e-04 - val_loss: 1.5625e-04\n",
            "Epoch 50/100\n",
            "23/23 [==============================] - 5s 229ms/step - loss: 7.7220e-04 - val_loss: 1.6985e-04\n",
            "Epoch 51/100\n",
            "23/23 [==============================] - 4s 184ms/step - loss: 8.1732e-04 - val_loss: 2.3858e-04\n",
            "Epoch 52/100\n",
            "23/23 [==============================] - 5s 228ms/step - loss: 9.3423e-04 - val_loss: 6.7787e-04\n",
            "Epoch 53/100\n",
            "23/23 [==============================] - 4s 192ms/step - loss: 0.0012 - val_loss: 2.5925e-04\n",
            "Epoch 54/100\n",
            "23/23 [==============================] - 4s 186ms/step - loss: 8.0446e-04 - val_loss: 1.4429e-04\n",
            "Epoch 55/100\n",
            "23/23 [==============================] - 5s 237ms/step - loss: 6.1953e-04 - val_loss: 1.5170e-04\n",
            "Epoch 56/100\n",
            "23/23 [==============================] - 4s 185ms/step - loss: 8.6489e-04 - val_loss: 1.6605e-04\n",
            "Epoch 57/100\n",
            "23/23 [==============================] - 4s 184ms/step - loss: 7.4012e-04 - val_loss: 1.3503e-04\n",
            "Epoch 58/100\n",
            "23/23 [==============================] - 5s 237ms/step - loss: 0.0010 - val_loss: 1.3997e-04\n",
            "Epoch 59/100\n",
            "23/23 [==============================] - 4s 183ms/step - loss: 8.2830e-04 - val_loss: 2.2234e-04\n",
            "Epoch 60/100\n",
            "23/23 [==============================] - 4s 185ms/step - loss: 0.0016 - val_loss: 2.0260e-04\n",
            "Epoch 61/100\n",
            "23/23 [==============================] - 5s 233ms/step - loss: 9.3227e-04 - val_loss: 2.0419e-04\n",
            "Epoch 62/100\n",
            "23/23 [==============================] - 4s 184ms/step - loss: 7.4666e-04 - val_loss: 1.3313e-04\n",
            "Epoch 63/100\n",
            "23/23 [==============================] - 5s 200ms/step - loss: 0.0011 - val_loss: 3.4405e-04\n",
            "Epoch 64/100\n",
            "23/23 [==============================] - 5s 214ms/step - loss: 0.0010 - val_loss: 2.0770e-04\n",
            "Epoch 65/100\n",
            "23/23 [==============================] - 4s 191ms/step - loss: 8.0180e-04 - val_loss: 1.3696e-04\n",
            "Epoch 66/100\n",
            "23/23 [==============================] - 6s 249ms/step - loss: 6.5159e-04 - val_loss: 1.2498e-04\n",
            "Epoch 67/100\n",
            "23/23 [==============================] - 4s 186ms/step - loss: 6.2204e-04 - val_loss: 1.2609e-04\n",
            "Epoch 68/100\n",
            "23/23 [==============================] - 4s 183ms/step - loss: 8.2714e-04 - val_loss: 3.0925e-04\n",
            "Epoch 69/100\n",
            "23/23 [==============================] - 5s 234ms/step - loss: 9.7280e-04 - val_loss: 1.3133e-04\n",
            "Epoch 70/100\n",
            "23/23 [==============================] - 4s 184ms/step - loss: 8.3694e-04 - val_loss: 2.5303e-04\n",
            "Epoch 71/100\n",
            "23/23 [==============================] - 4s 185ms/step - loss: 7.6085e-04 - val_loss: 1.2154e-04\n",
            "Epoch 72/100\n",
            "23/23 [==============================] - 5s 235ms/step - loss: 6.3277e-04 - val_loss: 1.1429e-04\n",
            "Epoch 73/100\n",
            "23/23 [==============================] - 4s 186ms/step - loss: 7.0642e-04 - val_loss: 2.2609e-04\n",
            "Epoch 74/100\n",
            "23/23 [==============================] - 5s 215ms/step - loss: 6.0926e-04 - val_loss: 1.1610e-04\n",
            "Epoch 75/100\n",
            "23/23 [==============================] - 6s 258ms/step - loss: 6.2393e-04 - val_loss: 1.0965e-04\n",
            "Epoch 76/100\n",
            "23/23 [==============================] - 4s 183ms/step - loss: 6.7434e-04 - val_loss: 1.6711e-04\n",
            "Epoch 77/100\n",
            "23/23 [==============================] - 5s 239ms/step - loss: 6.1111e-04 - val_loss: 1.2203e-04\n",
            "Epoch 78/100\n",
            "23/23 [==============================] - 4s 186ms/step - loss: 5.7347e-04 - val_loss: 1.1041e-04\n",
            "Epoch 79/100\n",
            "23/23 [==============================] - 4s 182ms/step - loss: 6.1394e-04 - val_loss: 1.1065e-04\n",
            "Epoch 80/100\n",
            "23/23 [==============================] - 5s 235ms/step - loss: 6.1462e-04 - val_loss: 1.2212e-04\n",
            "Epoch 81/100\n",
            "23/23 [==============================] - 4s 187ms/step - loss: 6.0988e-04 - val_loss: 1.0663e-04\n",
            "Epoch 82/100\n",
            "23/23 [==============================] - 4s 191ms/step - loss: 5.8392e-04 - val_loss: 1.4728e-04\n",
            "Epoch 83/100\n",
            "23/23 [==============================] - 5s 225ms/step - loss: 5.2658e-04 - val_loss: 1.0583e-04\n",
            "Epoch 84/100\n",
            "23/23 [==============================] - 4s 185ms/step - loss: 5.3960e-04 - val_loss: 1.0470e-04\n",
            "Epoch 85/100\n",
            "23/23 [==============================] - 5s 232ms/step - loss: 4.8606e-04 - val_loss: 1.0288e-04\n",
            "Epoch 86/100\n",
            "23/23 [==============================] - 4s 185ms/step - loss: 5.3877e-04 - val_loss: 1.3432e-04\n",
            "Epoch 87/100\n",
            "23/23 [==============================] - 4s 183ms/step - loss: 5.4833e-04 - val_loss: 1.0258e-04\n",
            "Epoch 88/100\n",
            "23/23 [==============================] - 5s 235ms/step - loss: 5.1830e-04 - val_loss: 1.0202e-04\n",
            "Epoch 89/100\n",
            "23/23 [==============================] - 4s 183ms/step - loss: 5.3607e-04 - val_loss: 1.0256e-04\n",
            "Epoch 90/100\n",
            "23/23 [==============================] - 5s 221ms/step - loss: 6.0447e-04 - val_loss: 1.0806e-04\n",
            "Epoch 91/100\n",
            "23/23 [==============================] - 5s 234ms/step - loss: 5.9346e-04 - val_loss: 1.0809e-04\n",
            "Epoch 92/100\n",
            "23/23 [==============================] - 4s 183ms/step - loss: 6.0036e-04 - val_loss: 1.0911e-04\n",
            "Epoch 93/100\n",
            "23/23 [==============================] - 5s 198ms/step - loss: 6.4626e-04 - val_loss: 1.0383e-04\n",
            "Epoch 94/100\n",
            "23/23 [==============================] - 5s 210ms/step - loss: 5.4601e-04 - val_loss: 1.2536e-04\n",
            "Epoch 95/100\n",
            "23/23 [==============================] - 4s 184ms/step - loss: 4.6595e-04 - val_loss: 1.2127e-04\n",
            "Epoch 96/100\n",
            "23/23 [==============================] - 5s 238ms/step - loss: 5.4811e-04 - val_loss: 1.1154e-04\n",
            "Epoch 97/100\n",
            "23/23 [==============================] - 4s 183ms/step - loss: 5.2943e-04 - val_loss: 9.6414e-05\n",
            "Epoch 98/100\n",
            "23/23 [==============================] - 4s 180ms/step - loss: 4.4930e-04 - val_loss: 9.5700e-05\n",
            "Epoch 99/100\n",
            "23/23 [==============================] - 5s 235ms/step - loss: 5.2472e-04 - val_loss: 1.8176e-04\n",
            "Epoch 100/100\n",
            "23/23 [==============================] - 4s 182ms/step - loss: 5.1744e-04 - val_loss: 1.0431e-04\n"
          ]
        },
        {
          "output_type": "execute_result",
          "data": {
            "text/plain": [
              "<keras.src.callbacks.History at 0x7d79901ed480>"
            ]
          },
          "metadata": {},
          "execution_count": 26
        }
      ],
      "source": [
        "model.fit(X_train,y_train,validation_data=(X_test,ytest),epochs=100,batch_size=64,verbose=1)"
      ]
    },
    {
      "cell_type": "code",
      "execution_count": null,
      "metadata": {
        "id": "GM_8pHMUlM1q"
      },
      "outputs": [],
      "source": [
        "import tensorflow as tf"
      ]
    },
    {
      "cell_type": "code",
      "execution_count": null,
      "metadata": {
        "id": "7XdzsJMIlM1q",
        "outputId": "05feb5ea-29e1-417a-baf6-9e3d810f2d1f",
        "colab": {
          "base_uri": "https://localhost:8080/",
          "height": 35
        }
      },
      "outputs": [
        {
          "output_type": "execute_result",
          "data": {
            "text/plain": [
              "'2.15.0'"
            ],
            "application/vnd.google.colaboratory.intrinsic+json": {
              "type": "string"
            }
          },
          "metadata": {},
          "execution_count": 28
        }
      ],
      "source": [
        "tf.__version__"
      ]
    },
    {
      "cell_type": "code",
      "execution_count": null,
      "metadata": {
        "id": "P_oX6PTSlM1q",
        "colab": {
          "base_uri": "https://localhost:8080/"
        },
        "outputId": "aa7712d1-eacd-4b44-e534-5678593f583a"
      },
      "outputs": [
        {
          "output_type": "stream",
          "name": "stdout",
          "text": [
            "45/45 [==============================] - 3s 36ms/step\n",
            "23/23 [==============================] - 1s 35ms/step\n"
          ]
        }
      ],
      "source": [
        "### Lets Do the prediction and check performance metrics\n",
        "train_predict=model.predict(X_train)\n",
        "test_predict=model.predict(X_test)"
      ]
    },
    {
      "cell_type": "code",
      "execution_count": null,
      "metadata": {
        "id": "6LgvofomlM1q"
      },
      "outputs": [],
      "source": [
        "##Transformback to original form\n",
        "train_predict=scaler.inverse_transform(train_predict)\n",
        "test_predict=scaler.inverse_transform(test_predict)"
      ]
    },
    {
      "cell_type": "code",
      "execution_count": null,
      "metadata": {
        "id": "w0AQA0ItlM1q",
        "outputId": "4666e3eb-7881-4db5-d8d0-7bc72897ed66",
        "colab": {
          "base_uri": "https://localhost:8080/"
        }
      },
      "outputs": [
        {
          "output_type": "execute_result",
          "data": {
            "text/plain": [
              "189.08136003603383"
            ]
          },
          "metadata": {},
          "execution_count": 31
        }
      ],
      "source": [
        "### Calculate RMSE performance metrics\n",
        "import math\n",
        "from sklearn.metrics import mean_squared_error\n",
        "math.sqrt(mean_squared_error(y_train,train_predict))"
      ]
    },
    {
      "cell_type": "code",
      "execution_count": null,
      "metadata": {
        "id": "e88MbZP9lM1r",
        "outputId": "380bc3d9-e82e-4e57-ef2f-328393351853",
        "colab": {
          "base_uri": "https://localhost:8080/"
        }
      },
      "outputs": [
        {
          "output_type": "execute_result",
          "data": {
            "text/plain": [
              "162.97938008230312"
            ]
          },
          "metadata": {},
          "execution_count": 32
        }
      ],
      "source": [
        "### Test Data RMSE\n",
        "math.sqrt(mean_squared_error(ytest,test_predict))"
      ]
    },
    {
      "cell_type": "code",
      "execution_count": null,
      "metadata": {
        "id": "R3DcvoRYlM1r",
        "outputId": "c5575716-6b5e-440e-ecd2-90ebad705b3b",
        "colab": {
          "base_uri": "https://localhost:8080/",
          "height": 430
        }
      },
      "outputs": [
        {
          "output_type": "display_data",
          "data": {
            "text/plain": [
              "<Figure size 640x480 with 1 Axes>"
            ],
            "image/png": "[encoded data removed]"
          },
          "metadata": {}
        }
      ],
      "source": [
        "### Plotting\n",
        "# shift train predictions for plotting\n",
        "look_back=100\n",
        "trainPredictPlot = numpy.empty_like(df1)\n",
        "trainPredictPlot[:, :] = np.nan\n",
        "trainPredictPlot[look_back:len(train_predict)+look_back, :] = train_predict\n",
        "# shift test predictions for plotting\n",
        "testPredictPlot = numpy.empty_like(df1)\n",
        "testPredictPlot[:, :] = numpy.nan\n",
        "testPredictPlot[len(train_predict)+(look_back*2)+1:len(df1)-1, :] = test_predict\n",
        "# plot baseline and predictions\n",
        "plt.plot(scaler.inverse_transform(df1))\n",
        "plt.plot(trainPredictPlot)\n",
        "plt.plot(testPredictPlot)\n",
        "plt.show()"
      ]
    },
    {
      "cell_type": "markdown",
      "source": [
        "blue is compelete dataset\n",
        "test data output green color\n",
        "train data orange\n"
      ],
      "metadata": {
        "id": "2MJTLGi9rBDP"
      }
    },
    {
      "cell_type": "code",
      "execution_count": null,
      "metadata": {
        "id": "8O1Rkhv7lM1r",
        "outputId": "1148211d-8616-4b57-d1a6-99f12ccee5d1",
        "colab": {
          "base_uri": "https://localhost:8080/"
        }
      },
      "outputs": [
        {
          "output_type": "execute_result",
          "data": {
            "text/plain": [
              "823"
            ]
          },
          "metadata": {},
          "execution_count": 34
        }
      ],
      "source": [
        "len(test_data) #lot of logic needed"
      ]
    },
    {
      "cell_type": "code",
      "execution_count": null,
      "metadata": {
        "id": "DgkSW092lM10",
        "outputId": "cf417977-f79b-43ba-dd28-f79987250229",
        "colab": {
          "base_uri": "https://localhost:8080/"
        }
      },
      "outputs": [
        {
          "output_type": "execute_result",
          "data": {
            "text/plain": [
              "(1, 100)"
            ]
          },
          "metadata": {},
          "execution_count": 38
        }
      ],
      "source": [
        "x_input=test_data[723:].reshape(1,-1)\n",
        "x_input.shape\n"
      ]
    },
    {
      "cell_type": "code",
      "execution_count": null,
      "metadata": {
        "id": "CzIWYB6ZlM10"
      },
      "outputs": [],
      "source": [
        "temp_input=list(x_input)\n",
        "temp_input=temp_input[0].tolist()"
      ]
    },
    {
      "cell_type": "code",
      "execution_count": null,
      "metadata": {
        "id": "4vRHHVE0lM10",
        "outputId": "11fc086c-4e3e-4849-a629-3a96d6bd1241",
        "colab": {
          "base_uri": "https://localhost:8080/"
        }
      },
      "outputs": [
        {
          "output_type": "execute_result",
          "data": {
            "text/plain": [
              "[0.24736019242333135,\n",
              " 0.251040288634997,\n",
              " 0.25885748647023454,\n",
              " 0.25921828021647625,\n",
              " 0.257919422730006,\n",
              " 0.2538785327720986,\n",
              " 0.2564040889957907,\n",
              " 0.2513289236319904,\n",
              " 0.2509681298857487,\n",
              " 0.24837041491280815,\n",
              " 0.24704750450992186,\n",
              " 0.24728803367408297,\n",
              " 0.248322309079976,\n",
              " 0.24579675285628383,\n",
              " 0.2292242934455802,\n",
              " 0.2258809380637402,\n",
              " 0.22025255562236917,\n",
              " 0.2184966927239928,\n",
              " 0.22903187011425136,\n",
              " 0.22802164762477445,\n",
              " 0.2305472038484666,\n",
              " 0.22910402886349968,\n",
              " 0.22989777510523146,\n",
              " 0.22438965724594107,\n",
              " 0.22210463018641013,\n",
              " 0.23641611545399877,\n",
              " 0.24346361996392063,\n",
              " 0.2490679494888755,\n",
              " 0.25217077570655444,\n",
              " 0.25053517739025855,\n",
              " 0.2497414311485267,\n",
              " 0.2455321707757065,\n",
              " 0.24387251954299455,\n",
              " 0.23499699338544794,\n",
              " 0.22624173180998197,\n",
              " 0.2321587492483464,\n",
              " 0.22972940469031866,\n",
              " 0.23413108839446783,\n",
              " 0.23802766085387855,\n",
              " 0.23829224293445578,\n",
              " 0.2356704750450992,\n",
              " 0.23694527961515333,\n",
              " 0.2328562838244137,\n",
              " 0.22778111846061333,\n",
              " 0.2256404088995791,\n",
              " 0.22494287432351173,\n",
              " 0.2212146722790138,\n",
              " 0.21941070354780517,\n",
              " 0.22123872519542992,\n",
              " 0.2261695730607336,\n",
              " 0.22171978352375227,\n",
              " 0.21844858689116053,\n",
              " 0.2219843656043295,\n",
              " 0.21907396271797952,\n",
              " 0.2174624173180998,\n",
              " 0.2148406494287432,\n",
              " 0.20387251954299457,\n",
              " 0.19189416716776908,\n",
              " 0.18948887552615756,\n",
              " 0.18920024052916412,\n",
              " 0.19336139506915212,\n",
              " 0.19822008418520742,\n",
              " 0.19937462417318097,\n",
              " 0.1943235117257967,\n",
              " 0.1988214070956103,\n",
              " 0.19790739627179793,\n",
              " 0.20055321707757062,\n",
              " 0.20622970535177393,\n",
              " 0.2124594107035478,\n",
              " 0.19490078171978353,\n",
              " 0.19708959711365004,\n",
              " 0.1936500300661455,\n",
              " 0.1909079975947084,\n",
              " 0.19956704750450993,\n",
              " 0.19516536380036076,\n",
              " 0.19167769092002407,\n",
              " 0.1888153938665063,\n",
              " 0.19076368009621164,\n",
              " 0.18876728803367404,\n",
              " 0.1905953096812989,\n",
              " 0.18787733012627778,\n",
              " 0.19081178592904385,\n",
              " 0.18626578472639804,\n",
              " 0.20372820204449787,\n",
              " 0.20736019242333137,\n",
              " 0.19807576668671073,\n",
              " 0.19011425135297655,\n",
              " 0.1867949488875526,\n",
              " 0.1844858689116055,\n",
              " 0.17957907396271794,\n",
              " 0.1815995189416717,\n",
              " 0.1841491280817799,\n",
              " 0.1892483463619964,\n",
              " 0.19134095009019841,\n",
              " 0.18992182802164764,\n",
              " 0.20002405291641612,\n",
              " 0.19239927841250754,\n",
              " 0.18992182802164764,\n",
              " 0.19889356584485868,\n",
              " 0.22378833433553819]"
            ]
          },
          "metadata": {},
          "execution_count": 40
        }
      ],
      "source": [
        "temp_input"
      ]
    },
    {
      "cell_type": "code",
      "execution_count": null,
      "metadata": {
        "id": "9BVkR2QtlM10",
        "outputId": "4da332b4-8e9b-4787-ff8c-bc347f646431",
        "colab": {
          "base_uri": "https://localhost:8080/"
        }
      },
      "outputs": [
        {
          "output_type": "stream",
          "name": "stdout",
          "text": [
            "0 day input [0.22171978 0.21844859 0.22198437 0.21907396 0.21746242 0.21484065\n",
            " 0.20387252 0.19189417 0.18948888 0.18920024 0.1933614  0.19822008\n",
            " 0.19937462 0.19432351 0.19882141 0.1979074  0.20055322 0.20622971\n",
            " 0.21245941 0.19490078 0.1970896  0.19365003 0.190908   0.19956705\n",
            " 0.19516536 0.19167769 0.18881539 0.19076368 0.18876729 0.19059531\n",
            " 0.18787733 0.19081179 0.18626578 0.2037282  0.20736019 0.19807577\n",
            " 0.19011425 0.18679495 0.18448587 0.17957907 0.18159952 0.18414913\n",
            " 0.18924835 0.19134095 0.18992183 0.20002405 0.19239928 0.18992183\n",
            " 0.19889357 0.22378833 0.19641916 0.19911447 0.19988638 0.1995862\n",
            " 0.19882494 0.19791795 0.19700204 0.19613047 0.19532178 0.19458017\n",
            " 0.19390303 0.19328347 0.19271211 0.19217835 0.20345986 0.20302694\n",
            " 0.20324631 0.20402013 0.20520568 0.20666961 0.20830652 0.21004121\n",
            " 0.21182285 0.21361859 0.21540749 0.21717605 0.21891521 0.22061862\n",
            " 0.22228178 0.22390154 0.2254757  0.22700317 0.22848362 0.22991771\n",
            " 0.2313066  0.23265235 0.23395731 0.23522419 0.23645613 0.23765613\n",
            " 0.23882751 0.23997332 0.24109654 0.24219988 0.24328579 0.24435651\n",
            " 0.245414   0.24645966 0.24749486 0.24852046]\n",
            "0 day output [[0.24953714]]\n",
            "1 day input [0.21844859 0.22198437 0.21907396 0.21746242 0.21484065 0.20387252\n",
            " 0.19189417 0.18948888 0.18920024 0.1933614  0.19822008 0.19937462\n",
            " 0.19432351 0.19882141 0.1979074  0.20055322 0.20622971 0.21245941\n",
            " 0.19490078 0.1970896  0.19365003 0.190908   0.19956705 0.19516536\n",
            " 0.19167769 0.18881539 0.19076368 0.18876729 0.19059531 0.18787733\n",
            " 0.19081179 0.18626578 0.2037282  0.20736019 0.19807577 0.19011425\n",
            " 0.18679495 0.18448587 0.17957907 0.18159952 0.18414913 0.18924835\n",
            " 0.19134095 0.18992183 0.20002405 0.19239928 0.18992183 0.19889357\n",
            " 0.22378833 0.19641916 0.19911447 0.19988638 0.1995862  0.19882494\n",
            " 0.19791795 0.19700204 0.19613047 0.19532178 0.19458017 0.19390303\n",
            " 0.19328347 0.19271211 0.19217835 0.20345986 0.20302694 0.20324631\n",
            " 0.20402013 0.20520568 0.20666961 0.20830652 0.21004121 0.21182285\n",
            " 0.21361859 0.21540749 0.21717605 0.21891521 0.22061862 0.22228178\n",
            " 0.22390154 0.2254757  0.22700317 0.22848362 0.22991771 0.2313066\n",
            " 0.23265235 0.23395731 0.23522419 0.23645613 0.23765613 0.23882751\n",
            " 0.23997332 0.24109654 0.24219988 0.24328579 0.24435651 0.245414\n",
            " 0.24645966 0.24749486 0.24852046 0.24953714]\n",
            "1 day output [[0.25054532]]\n",
            "2 day input [0.22198437 0.21907396 0.21746242 0.21484065 0.20387252 0.19189417\n",
            " 0.18948888 0.18920024 0.1933614  0.19822008 0.19937462 0.19432351\n",
            " 0.19882141 0.1979074  0.20055322 0.20622971 0.21245941 0.19490078\n",
            " 0.1970896  0.19365003 0.190908   0.19956705 0.19516536 0.19167769\n",
            " 0.18881539 0.19076368 0.18876729 0.19059531 0.18787733 0.19081179\n",
            " 0.18626578 0.2037282  0.20736019 0.19807577 0.19011425 0.18679495\n",
            " 0.18448587 0.17957907 0.18159952 0.18414913 0.18924835 0.19134095\n",
            " 0.18992183 0.20002405 0.19239928 0.18992183 0.19889357 0.22378833\n",
            " 0.19641916 0.19911447 0.19988638 0.1995862  0.19882494 0.19791795\n",
            " 0.19700204 0.19613047 0.19532178 0.19458017 0.19390303 0.19328347\n",
            " 0.19271211 0.19217835 0.20345986 0.20302694 0.20324631 0.20402013\n",
            " 0.20520568 0.20666961 0.20830652 0.21004121 0.21182285 0.21361859\n",
            " 0.21540749 0.21717605 0.21891521 0.22061862 0.22228178 0.22390154\n",
            " 0.2254757  0.22700317 0.22848362 0.22991771 0.2313066  0.23265235\n",
            " 0.23395731 0.23522419 0.23645613 0.23765613 0.23882751 0.23997332\n",
            " 0.24109654 0.24219988 0.24328579 0.24435651 0.245414   0.24645966\n",
            " 0.24749486 0.24852046 0.24953714 0.25054532]\n",
            "2 day output [[0.25154513]]\n",
            "[[0.2495371401309967], [0.25054532289505005], [0.25154513120651245]]\n"
          ]
        }
      ],
      "source": [
        "\n",
        "from numpy import array\n",
        "\n",
        "lst_output=[]\n",
        "n_steps=100\n",
        "i=0\n",
        "while(i<3):\n",
        "\n",
        "    if(len(temp_input)>100):\n",
        "        #print(temp_input)\n",
        "        x_input=np.array(temp_input[1:])\n",
        "        print(\"{} day input {}\".format(i,x_input))\n",
        "        x_input=x_input.reshape(1,-1)\n",
        "        x_input = x_input.reshape((1, n_steps, 1))\n",
        "        #print(x_input)\n",
        "        yhat = model.predict(x_input, verbose=0)\n",
        "        print(\"{} day output {}\".format(i,yhat))\n",
        "        temp_input.extend(yhat[0].tolist())\n",
        "        temp_input=temp_input[1:]\n",
        "        #print(temp_input)\n",
        "        lst_output.extend(yhat.tolist())\n",
        "        i=i+1\n",
        "    else:\n",
        "        x_input = x_input.reshape((1, n_steps,1))\n",
        "        yhat = model.predict(x_input, verbose=0)\n",
        "        print(yhat[0])\n",
        "        temp_input.extend(yhat[0].tolist())\n",
        "        print(len(temp_input))\n",
        "        lst_output.extend(yhat.tolist())\n",
        "        i=i+1\n",
        "\n",
        "\n",
        "print(lst_output)"
      ]
    },
    {
      "cell_type": "code",
      "source": [
        "print(yhat)"
      ],
      "metadata": {
        "colab": {
          "base_uri": "https://localhost:8080/"
        },
        "id": "QqkW-tLttpQC",
        "outputId": "3ef76db7-6e12-496d-ac63-2ff78647f08d"
      },
      "execution_count": null,
      "outputs": [
        {
          "output_type": "stream",
          "name": "stdout",
          "text": [
            "[[0.24852046]]\n"
          ]
        }
      ]
    },
    {
      "cell_type": "code",
      "execution_count": null,
      "metadata": {
        "id": "6RMuKjbjlM11"
      },
      "outputs": [],
      "source": [
        "day_new=np.arange(1,101)\n",
        "day_pred=np.arange(101,104)"
      ]
    },
    {
      "cell_type": "code",
      "execution_count": null,
      "metadata": {
        "id": "TEuLcJ74lM11"
      },
      "outputs": [],
      "source": [
        "import matplotlib.pyplot as plt"
      ]
    },
    {
      "cell_type": "code",
      "execution_count": null,
      "metadata": {
        "id": "H2rt5sq-lM11",
        "outputId": "81457327-ca24-467c-b724-d75fe5fa2e9a",
        "colab": {
          "base_uri": "https://localhost:8080/"
        }
      },
      "outputs": [
        {
          "output_type": "execute_result",
          "data": {
            "text/plain": [
              "2350"
            ]
          },
          "metadata": {},
          "execution_count": 77
        }
      ],
      "source": [
        "len(df1)"
      ]
    },
    {
      "cell_type": "code",
      "execution_count": null,
      "metadata": {
        "id": "yRK6s6VhlM11"
      },
      "outputs": [],
      "source": []
    },
    {
      "cell_type": "code",
      "execution_count": null,
      "metadata": {
        "id": "H4OSRClalM11",
        "outputId": "348ed60a-7b02-4b8c-a44d-9a8637338469",
        "colab": {
          "base_uri": "https://localhost:8080/",
          "height": 447
        }
      },
      "outputs": [
        {
          "output_type": "execute_result",
          "data": {
            "text/plain": [
              "[<matplotlib.lines.Line2D at 0x7d7982585ea0>]"
            ]
          },
          "metadata": {},
          "execution_count": 78
        },
        {
          "output_type": "display_data",
          "data": {
            "text/plain": [
              "<Figure size 640x480 with 1 Axes>"
            ],
            "image/png": "[encoded data removed]"
          },
          "metadata": {}
        }
      ],
      "source": [
        "plt.plot(day_new,scaler.inverse_transform(df1[2250:]))\n",
        "plt.plot(day_pred,scaler.inverse_transform(lst_output))"
      ]
    },
    {
      "cell_type": "code",
      "execution_count": null,
      "metadata": {
        "id": "X39hNB6olM11",
        "outputId": "537a6957-e876-45d8-f710-73fd44f225fa",
        "colab": {
          "base_uri": "https://localhost:8080/",
          "height": 447
        }
      },
      "outputs": [
        {
          "output_type": "execute_result",
          "data": {
            "text/plain": [
              "[<matplotlib.lines.Line2D at 0x7d79827bbc70>]"
            ]
          },
          "metadata": {},
          "execution_count": 52
        },
        {
          "output_type": "display_data",
          "data": {
            "text/plain": [
              "<Figure size 640x480 with 1 Axes>"
            ],
            "image/png": "[encoded data removed]"
          },
          "metadata": {}
        }
      ],
      "source": [
        "df3=df1.tolist()\n",
        "df3.extend(lst_output)\n",
        "plt.plot(df3[2000:])"
      ]
    },
    {
      "cell_type": "code",
      "execution_count": null,
      "metadata": {
        "id": "vLco6QB2lM11"
      },
      "outputs": [],
      "source": [
        "df3=scaler.inverse_transform(df3).tolist()"
      ]
    },
    {
      "cell_type": "code",
      "execution_count": null,
      "metadata": {
        "id": "YITtuUhvlM11",
        "outputId": "24281a07-246d-4798-83e0-36eab08abd99",
        "colab": {
          "base_uri": "https://localhost:8080/",
          "height": 447
        }
      },
      "outputs": [
        {
          "output_type": "execute_result",
          "data": {
            "text/plain": [
              "[<matplotlib.lines.Line2D at 0x7d7981e57d30>]"
            ]
          },
          "metadata": {},
          "execution_count": 54
        },
        {
          "output_type": "display_data",
          "data": {
            "text/plain": [
              "<Figure size 640x480 with 1 Axes>"
            ],
            "image/png": "[encoded data removed]"
          },
          "metadata": {}
        }
      ],
      "source": [
        "plt.plot(df3)"
      ]
    },
    {
      "cell_type": "code",
      "execution_count": null,
      "metadata": {
        "id": "vSlf19VZlM11",
        "colab": {
          "base_uri": "https://localhost:8080/"
        },
        "outputId": "e79f3c5a-5220-413c-b999-473a0814c20a"
      },
      "outputs": [
        {
          "output_type": "stream",
          "name": "stdout",
          "text": [
            "Epoch 1/10\n",
            "56/56 [==============================] - 18s 219ms/step - loss: 0.0091\n",
            "Epoch 2/10\n",
            "56/56 [==============================] - 13s 239ms/step - loss: 0.0034\n",
            "Epoch 3/10\n",
            "56/56 [==============================] - 7s 132ms/step - loss: 0.0027\n",
            "Epoch 4/10\n",
            "56/56 [==============================] - 8s 145ms/step - loss: 0.0025\n",
            "Epoch 5/10\n",
            "56/56 [==============================] - 8s 144ms/step - loss: 0.0019\n",
            "Epoch 6/10\n",
            "56/56 [==============================] - 7s 124ms/step - loss: 0.0018\n",
            "Epoch 7/10\n",
            "56/56 [==============================] - 8s 145ms/step - loss: 0.0016\n",
            "Epoch 8/10\n",
            "56/56 [==============================] - 7s 133ms/step - loss: 0.0016\n",
            "Epoch 9/10\n",
            "56/56 [==============================] - 8s 141ms/step - loss: 0.0022\n",
            "Epoch 10/10\n",
            "56/56 [==============================] - 8s 150ms/step - loss: 0.0017\n",
            "12/12 [==============================] - 2s 36ms/step\n",
            "Predicted stock prices for the next 30 days:\n",
            "[[176.87999]\n",
            " [177.37616]\n",
            " [177.61679]\n",
            " [177.55939]\n",
            " [177.39545]\n",
            " [177.1418 ]\n",
            " [176.77493]\n",
            " [176.27486]\n",
            " [175.71387]\n",
            " [175.11801]\n",
            " [174.56033]\n",
            " [174.03656]\n",
            " [173.61153]\n",
            " [173.22995]\n",
            " [173.1748 ]\n",
            " [173.54216]\n",
            " [174.11409]\n",
            " [174.61638]\n",
            " [174.88615]\n",
            " [174.8588 ]\n",
            " [174.4884 ]\n",
            " [173.87831]\n",
            " [173.18181]\n",
            " [172.58684]\n",
            " [172.20116]\n",
            " [172.01575]\n",
            " [172.16559]\n",
            " [172.49643]\n",
            " [172.86472]\n",
            " [173.345  ]]\n"
          ]
        }
      ],
      "source": [
        "import numpy as np\n",
        "import pandas as pd\n",
        "from sklearn.preprocessing import MinMaxScaler\n",
        "from keras.models import Sequential\n",
        "from keras.layers import LSTM, Dense\n",
        "\n",
        "\n",
        "# Use only the 'close' column for prediction\n",
        "data = df['close'].values\n",
        "data = data.reshape(-1, 1)\n",
        "\n",
        "# Normalize the data\n",
        "scaler = MinMaxScaler(feature_range=(0, 1))\n",
        "data_normalized = scaler.fit_transform(data)\n",
        "\n",
        "# Split the data into training and testing sets\n",
        "train_size = int(len(data_normalized) * 0.8)\n",
        "test_size = len(data_normalized) - train_size\n",
        "train_data, test_data = data_normalized[0:train_size, :], data_normalized[train_size:len(data_normalized), :]\n",
        "\n",
        "# Function to create sequences for LSTM\n",
        "def create_sequences(data, n_steps):\n",
        "    X, y = [], []\n",
        "    for i in range(len(data) - n_steps):\n",
        "        X.append(data[i:(i + n_steps), 0])\n",
        "        y.append(data[i + n_steps, 0])\n",
        "    return np.array(X), np.array(y)\n",
        "\n",
        "# Number of time steps\n",
        "n_steps = 100\n",
        "\n",
        "# Create sequences for LSTM\n",
        "X_train, y_train = create_sequences(train_data, n_steps)\n",
        "X_test, y_test = create_sequences(test_data, n_steps)\n",
        "\n",
        "# Reshape data for LSTM (samples, time steps, features)\n",
        "X_train = X_train.reshape(X_train.shape[0], X_train.shape[1], 1)\n",
        "X_test = X_test.reshape(X_test.shape[0], X_test.shape[1], 1)\n",
        "\n",
        "# Build the LSTM model\n",
        "model = Sequential()\n",
        "model.add(LSTM(units=50, return_sequences=True, input_shape=(n_steps, 1)))\n",
        "model.add(LSTM(units=50, return_sequences=True))\n",
        "model.add(LSTM(units=50))\n",
        "model.add(Dense(units=1))\n",
        "model.compile(optimizer='adam', loss='mean_squared_error')\n",
        "\n",
        "# Train the model\n",
        "model.fit(X_train, y_train, epochs=10, batch_size=32)\n",
        "\n",
        "# Make predictions\n",
        "predictions = model.predict(X_test)\n",
        "\n",
        "# Inverse transform predictions and actual values\n",
        "predictions = scaler.inverse_transform(predictions)\n",
        "y_test = scaler.inverse_transform(y_test.reshape(-1, 1))\n",
        "\n",
        "# Print predictions for the next 30 days\n",
        "print(\"Predicted stock prices for the next 30 days:\")\n",
        "print(predictions[-30:])\n"
      ]
    },
    {
      "cell_type": "code",
      "source": [
        "# Make predictions\n",
        "predictions = model.predict(X_test)\n",
        "\n",
        "# Inverse transform predictions and actual values\n",
        "predictions = scaler.inverse_transform(predictions)\n",
        "y_test = scaler.inverse_transform(y_test.reshape(-1, 1))\n",
        "\n",
        "# Print predictions for the next 30 days\n",
        "print(\"Predicted stock prices for the next 30 days:\")\n",
        "print(predictions[-30:])"
      ],
      "metadata": {
        "id": "sRvAl1sQ01-s",
        "colab": {
          "base_uri": "https://localhost:8080/"
        },
        "outputId": "2ccf2a34-de62-410a-afae-31ac2f751988"
      },
      "execution_count": null,
      "outputs": [
        {
          "output_type": "stream",
          "name": "stdout",
          "text": [
            "12/12 [==============================] - 0s 35ms/step\n",
            "Predicted stock prices for the next 30 days:\n",
            "[[176.87999]\n",
            " [177.37616]\n",
            " [177.61679]\n",
            " [177.55939]\n",
            " [177.39545]\n",
            " [177.1418 ]\n",
            " [176.77493]\n",
            " [176.27486]\n",
            " [175.71387]\n",
            " [175.11801]\n",
            " [174.56033]\n",
            " [174.03656]\n",
            " [173.61153]\n",
            " [173.22995]\n",
            " [173.1748 ]\n",
            " [173.54216]\n",
            " [174.11409]\n",
            " [174.61638]\n",
            " [174.88615]\n",
            " [174.8588 ]\n",
            " [174.4884 ]\n",
            " [173.87831]\n",
            " [173.18181]\n",
            " [172.58684]\n",
            " [172.20116]\n",
            " [172.01575]\n",
            " [172.16559]\n",
            " [172.49643]\n",
            " [172.86472]\n",
            " [173.345  ]]\n"
          ]
        }
      ]
    },
    {
      "cell_type": "code",
      "source": [
        "import matplotlib.pyplot as plt\n",
        "\n",
        "# Plot the last 10 days of test data\n",
        "plt.plot(y_test[-10:], label='Actual')\n",
        "\n",
        "# Plot the predicted stock prices for the next 30 days\n",
        "plt.plot(predictions[-30:], label='Predicted')\n",
        "\n",
        "plt.xlabel('Days')\n",
        "plt.ylabel('Stock Price')\n",
        "plt.title('Actual vs Predicted Stock Prices')\n",
        "plt.legend()\n",
        "plt.show()\n"
      ],
      "metadata": {
        "colab": {
          "base_uri": "https://localhost:8080/",
          "height": 472
        },
        "id": "LKctSe_wpsjV",
        "outputId": "96d2cc8d-2035-4a13-8590-0f342d3c90b5"
      },
      "execution_count": null,
      "outputs": [
        {
          "output_type": "display_data",
          "data": {
            "text/plain": [
              "<Figure size 640x480 with 1 Axes>"
            ],
            "image/png": "[encoded data removed]"
          },
          "metadata": {}
        }
      ]
    }
  ],
  "metadata": {
    "kernelspec": {
      "display_name": "Python 3",
      "language": "python",
      "name": "python3"
    },
    "language_info": {
      "codemirror_mode": {
        "name": "ipython",
        "version": 3
      },
      "file_extension": ".py",
      "mimetype": "text/x-python",
      "name": "python",
      "nbconvert_exporter": "python",
      "pygments_lexer": "ipython3",
      "version": "3.6.9"
    },
    "colab": {
      "provenance": []
    }
  },
  "nbformat": 4,
  "nbformat_minor": 0
}